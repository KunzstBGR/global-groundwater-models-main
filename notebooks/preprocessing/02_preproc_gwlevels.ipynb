{
 "cells": [
  {
   "cell_type": "markdown",
   "id": "72298e70",
   "metadata": {},
   "source": [
    "## Set up"
   ]
  },
  {
   "cell_type": "code",
   "execution_count": 1,
   "id": "d830254d",
   "metadata": {},
   "outputs": [
    {
     "name": "stderr",
     "output_type": "stream",
     "text": [
      "D:\\KIMoDIs\\GGWM\\lib\\site-packages\\tqdm\\auto.py:21: TqdmWarning: IProgress not found. Please update jupyter and ipywidgets. See https://ipywidgets.readthedocs.io/en/stable/user_install.html\n",
      "  from .autonotebook import tqdm as notebook_tqdm\n"
     ]
    }
   ],
   "source": [
    "import os\n",
    "import numpy as np\n",
    "import pandas as pd\n",
    "import pytorch_lightning as pl\n",
    "import pyarrow as pa\n",
    "import pyarrow.parquet as pq\n",
    "import scipy.optimize as opt\n",
    "import matplotlib.pyplot as plt\n",
    "\n",
    "from os.path import dirname, join \n",
    "import sys \n",
    "sys.path.insert(0, join(dirname('notebooks'), '..'))\n",
    "\n",
    "BASE_PATH = 'D:/KIMoDIs/global-groundwater-models-main'\n",
    "\n",
    "DATA_PATH = os.path.join(BASE_PATH, 'data')\n",
    "MODEL_PATH = os.path.join(BASE_PATH, 'models')\n",
    "RESULT_PATH = os.path.join(BASE_PATH, 'results')\n",
    "\n",
    "# Roughly 80/10/10\n",
    "TRAIN_PERIOD = (pd.Timestamp(1990, 1, 1), pd.Timestamp(2010, 1, 1))\n",
    "VAL_PERIOD = (pd.Timestamp(2010, 1, 1), pd.Timestamp(2013, 1, 1))\n",
    "TEST_PERIOD = (pd.Timestamp(2013, 1, 1), pd.Timestamp(2016, 1, 1))\n",
    "\n",
    "TIME_IDX = pd.date_range(TRAIN_PERIOD[0], TEST_PERIOD[1], freq='W-SUN', inclusive='neither', name='time').to_frame().reset_index(drop=True)\n",
    "TIME_IDX.index.name = 'time_idx'\n",
    "TIME_IDX = TIME_IDX.reset_index()"
   ]
  },
  {
   "cell_type": "code",
   "execution_count": 3,
   "id": "b7059669",
   "metadata": {},
   "outputs": [],
   "source": [
    "# Load newly processed features\n",
    "features_df = pq.read_table(os.path.join(DATA_PATH, 'features_df.parquet'))\n",
    "features_df = features_df.to_pandas()"
   ]
  },
  {
   "cell_type": "code",
   "execution_count": 4,
   "id": "c0d9ab88",
   "metadata": {},
   "outputs": [
    {
     "name": "stdout",
     "output_type": "stream",
     "text": [
      "Currently 94 sites do not have information on the exogenous features.\n"
     ]
    }
   ],
   "source": [
    "# Load gwl from Alex\n",
    "gwl_df = pd.read_feather(os.path.join(DATA_PATH, 'temporal.feather'))\n",
    "gwl_df = gwl_df[['proj_id', 'x', 'y', 'time', 'gwl']]\n",
    "# Load static data (old) from Alex\n",
    "# old_static_df = pd.read_feather(os.path.join(DATA_PATH, 'static.feather'))\n",
    "\n",
    "print('Currently',\n",
    "       len(gwl_df[~gwl_df['proj_id'].isin(features_df['proj_id'].unique())]['proj_id'].unique()),\n",
    "      'sites do not have information on the exogenous features.'\n",
    ")"
   ]
  },
  {
   "cell_type": "code",
   "execution_count": 5,
   "id": "a8f1b3bf",
   "metadata": {},
   "outputs": [],
   "source": [
    "# Training, validation and test dataset\n",
    "train_df = gwl_df[gwl_df['time'].between(*TRAIN_PERIOD)]\n",
    "val_df = gwl_df[gwl_df['time'].between(*VAL_PERIOD)]\n",
    "test_df = gwl_df[gwl_df['time'].between(*TEST_PERIOD)]"
   ]
  },
  {
   "cell_type": "markdown",
   "id": "d8491e96",
   "metadata": {},
   "source": [
    "## Filter out time series in the test data with less than 3 years of observations\n",
    "\n",
    "- TS length should be equal to obtain comparable metrics in the end.\n",
    "- Only use complete data, no interpolation (yet -> if too few datapoints we also need to interpolate in test and val set)"
   ]
  },
  {
   "cell_type": "code",
   "execution_count": 6,
   "id": "d3ff7e86",
   "metadata": {},
   "outputs": [
    {
     "name": "stdout",
     "output_type": "stream",
     "text": [
      "3502 time series have fewer than 3 years of gwl observations in the test data. Total number of time series: 12262\n"
     ]
    }
   ],
   "source": [
    "test_length_ts = pd.DataFrame(test_df['proj_id'].value_counts()).reset_index()\n",
    "print(\n",
    "    len(test_length_ts[test_length_ts['count']<156]),\n",
    "    'time series have fewer than 3 years of gwl observations in the test data.',\n",
    "    'Total number of time series:', len(test_length_ts['proj_id'].unique())\n",
    ")"
   ]
  },
  {
   "cell_type": "code",
   "execution_count": null,
   "id": "a1ab2c57",
   "metadata": {},
   "outputs": [],
   "source": [
    "# 3 years -> 156 weeks\n",
    "# Nr of weeks for the 3 years depends on the starting date, 06.01 in this case!\n",
    "# test_df[test_df['proj_id']=='SH_10L54086004']\n",
    "# filtered_test_length_ts[filtered_test_length_ts['count']==156]"
   ]
  },
  {
   "cell_type": "code",
   "execution_count": 8,
   "id": "2ccde3ad",
   "metadata": {},
   "outputs": [],
   "source": [
    "filtered_test = test_df[test_df['proj_id'].isin(test_df['proj_id'].value_counts()[lambda x: x==156].index.tolist())]"
   ]
  },
  {
   "cell_type": "code",
   "execution_count": 9,
   "id": "2cca6ec1",
   "metadata": {},
   "outputs": [
    {
     "data": {
      "text/plain": [
       "8760"
      ]
     },
     "execution_count": 9,
     "metadata": {},
     "output_type": "execute_result"
    }
   ],
   "source": [
    "len(filtered_test['proj_id'].unique())"
   ]
  },
  {
   "cell_type": "markdown",
   "id": "86bbcaa5",
   "metadata": {},
   "source": [
    "## Filter out time series in the validation data with less than 3 years of observations\n",
    "\n",
    "- Subset to the sites that are in the training should be done in the end."
   ]
  },
  {
   "cell_type": "code",
   "execution_count": 10,
   "id": "8296bad9",
   "metadata": {},
   "outputs": [
    {
     "name": "stdout",
     "output_type": "stream",
     "text": [
      "3192 time series have fewer than 3 years of gwl observations in the test data. Total number of time series: 12237\n"
     ]
    }
   ],
   "source": [
    "val_length_ts = pd.DataFrame(val_df['proj_id'].value_counts()).reset_index()\n",
    "print(\n",
    "    len(val_length_ts[val_length_ts['count']<157]),\n",
    "    'time series have fewer than 3 years of gwl observations in the test data.',\n",
    "    'Total number of time series:', len(val_length_ts['proj_id'].unique())\n",
    ")"
   ]
  },
  {
   "cell_type": "code",
   "execution_count": null,
   "id": "dd5f60d9",
   "metadata": {},
   "outputs": [],
   "source": [
    "# 3 years -> 157 weeks!\n",
    "# filtered_val_length_ts[filtered_val_length_ts['count']==157]\n",
    "# val_df[val_df['proj_id']=='SH_10L54086004']"
   ]
  },
  {
   "cell_type": "code",
   "execution_count": 11,
   "id": "1e36d550",
   "metadata": {},
   "outputs": [],
   "source": [
    "filtered_val = val_df[val_df['proj_id'].isin(val_df['proj_id'].value_counts()[lambda x: x == 157].index.tolist())]"
   ]
  },
  {
   "cell_type": "code",
   "execution_count": 12,
   "id": "b8d1e2d2",
   "metadata": {},
   "outputs": [
    {
     "data": {
      "text/plain": [
       "9045"
      ]
     },
     "execution_count": 12,
     "metadata": {},
     "output_type": "execute_result"
    }
   ],
   "source": [
    "len(filtered_val['proj_id'].unique())"
   ]
  },
  {
   "cell_type": "markdown",
   "id": "458c7c2d",
   "metadata": {},
   "source": [
    "## Training data should be at least 6 years long and reach until the validation set \n",
    "\n",
    "Further conditions: \n",
    "- maximum gap 4 weeks\n",
    "- greater gaps only allowed before 2004 (these will be cut off)\n",
    "- Approach: \n",
    "    - first the minimum dates are set (at least 4 weeks before 2009-12-27 and max 4 weeks after the 2004-01-04)\n",
    "    - then we filter for time series with gaps, interpolate or remove "
   ]
  },
  {
   "cell_type": "code",
   "execution_count": 13,
   "id": "051ec9dc",
   "metadata": {},
   "outputs": [
    {
     "data": {
      "text/html": [
       "<div>\n",
       "<style scoped>\n",
       "    .dataframe tbody tr th:only-of-type {\n",
       "        vertical-align: middle;\n",
       "    }\n",
       "\n",
       "    .dataframe tbody tr th {\n",
       "        vertical-align: top;\n",
       "    }\n",
       "\n",
       "    .dataframe thead th {\n",
       "        text-align: right;\n",
       "    }\n",
       "</style>\n",
       "<table border=\"1\" class=\"dataframe\">\n",
       "  <thead>\n",
       "    <tr style=\"text-align: right;\">\n",
       "      <th></th>\n",
       "      <th>proj_id</th>\n",
       "      <th>x</th>\n",
       "      <th>y</th>\n",
       "      <th>time</th>\n",
       "      <th>gwl</th>\n",
       "    </tr>\n",
       "  </thead>\n",
       "  <tbody>\n",
       "    <tr>\n",
       "      <th>1042</th>\n",
       "      <td>SH_10L54131001</td>\n",
       "      <td>204</td>\n",
       "      <td>1</td>\n",
       "      <td>2004-01-04</td>\n",
       "      <td>4.816406</td>\n",
       "    </tr>\n",
       "    <tr>\n",
       "      <th>2381</th>\n",
       "      <td>SH_10L54086002</td>\n",
       "      <td>194</td>\n",
       "      <td>2</td>\n",
       "      <td>2004-01-04</td>\n",
       "      <td>-1.500000</td>\n",
       "    </tr>\n",
       "    <tr>\n",
       "      <th>3172</th>\n",
       "      <td>SH_10L54154005</td>\n",
       "      <td>206</td>\n",
       "      <td>3</td>\n",
       "      <td>2004-01-04</td>\n",
       "      <td>10.640625</td>\n",
       "    </tr>\n",
       "    <tr>\n",
       "      <th>3173</th>\n",
       "      <td>SH_10L54154006</td>\n",
       "      <td>206</td>\n",
       "      <td>3</td>\n",
       "      <td>2004-01-04</td>\n",
       "      <td>10.640625</td>\n",
       "    </tr>\n",
       "    <tr>\n",
       "      <th>3174</th>\n",
       "      <td>SH_10L54154007</td>\n",
       "      <td>206</td>\n",
       "      <td>3</td>\n",
       "      <td>2004-01-04</td>\n",
       "      <td>10.640625</td>\n",
       "    </tr>\n",
       "    <tr>\n",
       "      <th>...</th>\n",
       "      <td>...</td>\n",
       "      <td>...</td>\n",
       "      <td>...</td>\n",
       "      <td>...</td>\n",
       "      <td>...</td>\n",
       "    </tr>\n",
       "    <tr>\n",
       "      <th>13664841</th>\n",
       "      <td>BY_25668</td>\n",
       "      <td>352</td>\n",
       "      <td>788</td>\n",
       "      <td>2004-01-04</td>\n",
       "      <td>651.000000</td>\n",
       "    </tr>\n",
       "    <tr>\n",
       "      <th>13666197</th>\n",
       "      <td>BY_25142</td>\n",
       "      <td>370</td>\n",
       "      <td>788</td>\n",
       "      <td>2004-01-04</td>\n",
       "      <td>802.500000</td>\n",
       "    </tr>\n",
       "    <tr>\n",
       "      <th>13667348</th>\n",
       "      <td>BY_13103</td>\n",
       "      <td>289</td>\n",
       "      <td>789</td>\n",
       "      <td>2004-01-04</td>\n",
       "      <td>721.000000</td>\n",
       "    </tr>\n",
       "    <tr>\n",
       "      <th>13668514</th>\n",
       "      <td>BY_25700</td>\n",
       "      <td>350</td>\n",
       "      <td>792</td>\n",
       "      <td>2004-01-04</td>\n",
       "      <td>673.000000</td>\n",
       "    </tr>\n",
       "    <tr>\n",
       "      <th>13669870</th>\n",
       "      <td>BY_25170</td>\n",
       "      <td>363</td>\n",
       "      <td>792</td>\n",
       "      <td>2004-01-04</td>\n",
       "      <td>839.000000</td>\n",
       "    </tr>\n",
       "  </tbody>\n",
       "</table>\n",
       "<p>10242 rows × 5 columns</p>\n",
       "</div>"
      ],
      "text/plain": [
       "                 proj_id    x    y       time         gwl\n",
       "1042      SH_10L54131001  204    1 2004-01-04    4.816406\n",
       "2381      SH_10L54086002  194    2 2004-01-04   -1.500000\n",
       "3172      SH_10L54154005  206    3 2004-01-04   10.640625\n",
       "3173      SH_10L54154006  206    3 2004-01-04   10.640625\n",
       "3174      SH_10L54154007  206    3 2004-01-04   10.640625\n",
       "...                  ...  ...  ...        ...         ...\n",
       "13664841        BY_25668  352  788 2004-01-04  651.000000\n",
       "13666197        BY_25142  370  788 2004-01-04  802.500000\n",
       "13667348        BY_13103  289  789 2004-01-04  721.000000\n",
       "13668514        BY_25700  350  792 2004-01-04  673.000000\n",
       "13669870        BY_25170  363  792 2004-01-04  839.000000\n",
       "\n",
       "[10242 rows x 5 columns]"
      ]
     },
     "execution_count": 13,
     "metadata": {},
     "output_type": "execute_result"
    }
   ],
   "source": [
    "train_df[train_df['time']=='2004-01-04']"
   ]
  },
  {
   "cell_type": "code",
   "execution_count": 14,
   "id": "a8ef0d30",
   "metadata": {},
   "outputs": [],
   "source": [
    "# 4 week gaps are allowed, choose as last day 2009-11-29 (2009-12-27 minus 4 weeks) \n",
    "# and as minimum first day 2004-02-01 (4 weeks from 2004-01-04)\n",
    "# Hence, 2007-12-02 should be the maximum date we include\n",
    "max_date = pd.to_datetime('2009-11-29') \n",
    "min_date = pd.to_datetime('2004-02-01')\n",
    "filtered_train = train_df.groupby('proj_id').filter(lambda x: (x['time'].max() >= max_date) & (x['time'].min() <= min_date))"
   ]
  },
  {
   "cell_type": "code",
   "execution_count": 15,
   "id": "30fe8a4c",
   "metadata": {},
   "outputs": [
    {
     "name": "stdout",
     "output_type": "stream",
     "text": [
      "130 time series with less than 6 years of gwl observations in the training data.\n"
     ]
    }
   ],
   "source": [
    "filtered_train_length_ts = pd.DataFrame(filtered_train['proj_id'].value_counts()).reset_index()\n",
    "print(\n",
    "    len(filtered_train_length_ts[filtered_train_length_ts['count']<=312]),\n",
    "    'time series with less than 6 years of gwl observations in the training data.'\n",
    ")"
   ]
  },
  {
   "cell_type": "code",
   "execution_count": 16,
   "id": "e40ce52f",
   "metadata": {},
   "outputs": [
    {
     "data": {
      "text/plain": [
       "10303"
      ]
     },
     "execution_count": 16,
     "metadata": {},
     "output_type": "execute_result"
    }
   ],
   "source": [
    "len(filtered_train['proj_id'].unique())"
   ]
  },
  {
   "cell_type": "markdown",
   "id": "9ef130fd",
   "metadata": {},
   "source": [
    "## Detect jumps in the gw-levels (training, validation and test)"
   ]
  },
  {
   "cell_type": "code",
   "execution_count": 17,
   "id": "428741de",
   "metadata": {},
   "outputs": [],
   "source": [
    "# Detect jumps\n",
    "from utils import detect_jumps\n",
    "\n",
    "filtered_train = filtered_train.groupby('proj_id').apply(detect_jumps, column = 'gwl', threshold = 50)\n",
    "filtered_train.reset_index(drop=True, inplace=True)\n",
    "\n",
    "filtered_val = filtered_val.groupby('proj_id').apply(detect_jumps, column = 'gwl', threshold = 50)\n",
    "filtered_val.reset_index(drop=True, inplace=True)\n",
    "\n",
    "filtered_test = filtered_test.groupby('proj_id').apply(detect_jumps, column = 'gwl', threshold = 50)\n",
    "filtered_test.reset_index(drop=True, inplace=True)"
   ]
  },
  {
   "cell_type": "code",
   "execution_count": 18,
   "id": "c8ee1fc3",
   "metadata": {},
   "outputs": [
    {
     "name": "stdout",
     "output_type": "stream",
     "text": [
      "261 timeseries have extreme jumps in the training data.\n"
     ]
    }
   ],
   "source": [
    "print(\n",
    "    len(filtered_train[filtered_train['is_jump']==True]['proj_id'].unique()),\n",
    "    'timeseries have extreme jumps in the training data.'\n",
    ")"
   ]
  },
  {
   "cell_type": "code",
   "execution_count": 19,
   "id": "1965b2b3",
   "metadata": {},
   "outputs": [
    {
     "name": "stdout",
     "output_type": "stream",
     "text": [
      "22 timeseries have extreme jumps in the training data.\n"
     ]
    }
   ],
   "source": [
    "print(\n",
    "    len(filtered_val[filtered_val['is_jump']==True]['proj_id'].unique()),\n",
    "    'timeseries have extreme jumps in the training data.'\n",
    ")"
   ]
  },
  {
   "cell_type": "code",
   "execution_count": 20,
   "id": "6db26925",
   "metadata": {},
   "outputs": [
    {
     "name": "stdout",
     "output_type": "stream",
     "text": [
      "29 timeseries have extreme jumps in the test data.\n"
     ]
    }
   ],
   "source": [
    "print(\n",
    "    len(filtered_test[filtered_test['is_jump']==True]['proj_id'].unique()),\n",
    "    'timeseries have extreme jumps in the test data.'\n",
    ")"
   ]
  },
  {
   "cell_type": "code",
   "execution_count": 21,
   "id": "6e1b0187",
   "metadata": {},
   "outputs": [],
   "source": [
    "# Just remove the timepoint with the large jump\n",
    "filtered_train = filtered_train[filtered_train['is_jump']==False]\n",
    "filtered_val = filtered_val[filtered_val['is_jump']==False]\n",
    "filtered_test = filtered_test[filtered_test['is_jump']==False]\n",
    "\n",
    "# Code to remove the id's with large jumps\n",
    "# id_jumps_rm = filtered_train[filtered_train['is_jump']==True]['proj_id'].unique()\n",
    "# filtered_train = filtered_train[~filtered_train['proj_id'].isin(id_jumps_rm)]\n",
    "\n",
    "# id_jumps_rm_val = filtered_val[filtered_val['is_jump']==True]['proj_id'].unique()\n",
    "# filtered_val = filtered_val[~filtered_val['proj_id'].isin(id_jumps_rm_val)]\n",
    "\n",
    "# id_jumps_rm_test = filtered_test[filtered_test['is_jump']==True]['proj_id'].unique()\n",
    "# filtered_test = filtered_test[~filtered_test['proj_id'].isin(id_jumps_rm_test)]\n",
    "\n",
    "# Example jump\n",
    "# subset = train_df[(train_df['proj_id']=='TH_5138000176') & (train_df['time'] <= '2011-07-31')][['proj_id', 'time', 'gwl', 'is_jump']].tail(60)\n",
    "# import matplotlib.pyplot as plt\n",
    "# plt.figure(figsize=(10, 6))\n",
    "# plt.plot(subset['time'], subset['gwl'], marker='o', linestyle='-', color='b', label='Groundwater Level')\n",
    "# plt.xlabel('Time')\n",
    "# plt.ylabel('Groundwater Level')\n",
    "# plt.title('GWL Time Series TH_5138000176')\n",
    "# plt.legend()\n",
    "# plt.grid(True)\n",
    "# plt.show()"
   ]
  },
  {
   "cell_type": "code",
   "execution_count": 22,
   "id": "211c57f4",
   "metadata": {},
   "outputs": [],
   "source": [
    "# Calculate time diff to next observation per proj id\n",
    "filtered_train['time_diff'] = filtered_train.groupby('proj_id')['time'].diff()\n",
    "filtered_val['time_diff'] = filtered_val.groupby('proj_id')['time'].diff()\n",
    "filtered_test['time_diff'] = filtered_test.groupby('proj_id')['time'].diff()"
   ]
  },
  {
   "cell_type": "markdown",
   "id": "888b7954",
   "metadata": {},
   "source": [
    "## Remove Time Series with gaps greater than 4 weeks (training data)\n",
    "\n",
    "- Training: \n",
    "    - Remove timeseries with gaps > 28 days within 2004 - 2010\n",
    "    - If greater gaps occur before 2004, cut time series"
   ]
  },
  {
   "cell_type": "code",
   "execution_count": 23,
   "id": "b5980ff4",
   "metadata": {},
   "outputs": [
    {
     "name": "stdout",
     "output_type": "stream",
     "text": [
      "2441 sites have at least one gap between 2004 and 2010 greater than 4 weeks in the training data\n"
     ]
    }
   ],
   "source": [
    "# Remove TS with gaps > 28 days within 2002-01-06 - 2007-12-30 \n",
    "filtered_train_gap = filtered_train[filtered_train['time_diff'] > pd.Timedelta('28 days')]\n",
    "filtered_train_gap_after2001 = filtered_train_gap[filtered_train_gap['time']>='2004-01-04']\n",
    "sites_rm = filtered_train_gap_after2001['proj_id'].unique()\n",
    "\n",
    "print(len(sites_rm), \n",
    "      'sites have at least one gap between 2004 and 2010 greater than 4 weeks in the training data')\n",
    "\n",
    "# This step is dubious and should be changed (maybe was added later?)\n",
    "# filtered_train = filtered_train[~filtered_train['proj_id'].isin(sites_rm)]"
   ]
  },
  {
   "cell_type": "code",
   "execution_count": 24,
   "id": "8fb34e7a",
   "metadata": {},
   "outputs": [],
   "source": [
    "# After subset recalculate the gaps > 28 days\n",
    "filtered_train_gap = filtered_train[filtered_train['time_diff'] > pd.Timedelta('28 days')]"
   ]
  },
  {
   "cell_type": "code",
   "execution_count": 25,
   "id": "ad43d9c7",
   "metadata": {},
   "outputs": [],
   "source": [
    "# Subset to the latest occurring gap\n",
    "filtered_train_gap = filtered_train_gap.loc[filtered_train_gap.groupby('proj_id')['time'].idxmax()]"
   ]
  },
  {
   "cell_type": "code",
   "execution_count": 26,
   "id": "971f1477",
   "metadata": {},
   "outputs": [
    {
     "data": {
      "text/html": [
       "<div>\n",
       "<style scoped>\n",
       "    .dataframe tbody tr th:only-of-type {\n",
       "        vertical-align: middle;\n",
       "    }\n",
       "\n",
       "    .dataframe tbody tr th {\n",
       "        vertical-align: top;\n",
       "    }\n",
       "\n",
       "    .dataframe thead th {\n",
       "        text-align: right;\n",
       "    }\n",
       "</style>\n",
       "<table border=\"1\" class=\"dataframe\">\n",
       "  <thead>\n",
       "    <tr style=\"text-align: right;\">\n",
       "      <th></th>\n",
       "      <th>proj_id</th>\n",
       "      <th>x</th>\n",
       "      <th>y</th>\n",
       "      <th>time</th>\n",
       "      <th>gwl</th>\n",
       "      <th>is_jump</th>\n",
       "      <th>time_diff</th>\n",
       "    </tr>\n",
       "  </thead>\n",
       "  <tbody>\n",
       "    <tr>\n",
       "      <th>22901</th>\n",
       "      <td>BB_27400050</td>\n",
       "      <td>423</td>\n",
       "      <td>170</td>\n",
       "      <td>1997-06-29</td>\n",
       "      <td>72.8750</td>\n",
       "      <td>False</td>\n",
       "      <td>56 days</td>\n",
       "    </tr>\n",
       "    <tr>\n",
       "      <th>22902</th>\n",
       "      <td>BB_27400050</td>\n",
       "      <td>423</td>\n",
       "      <td>170</td>\n",
       "      <td>1997-07-06</td>\n",
       "      <td>72.8750</td>\n",
       "      <td>False</td>\n",
       "      <td>7 days</td>\n",
       "    </tr>\n",
       "    <tr>\n",
       "      <th>22903</th>\n",
       "      <td>BB_27400050</td>\n",
       "      <td>423</td>\n",
       "      <td>170</td>\n",
       "      <td>1997-07-13</td>\n",
       "      <td>72.8125</td>\n",
       "      <td>False</td>\n",
       "      <td>7 days</td>\n",
       "    </tr>\n",
       "    <tr>\n",
       "      <th>22904</th>\n",
       "      <td>BB_27400050</td>\n",
       "      <td>423</td>\n",
       "      <td>170</td>\n",
       "      <td>1997-07-20</td>\n",
       "      <td>72.8125</td>\n",
       "      <td>False</td>\n",
       "      <td>7 days</td>\n",
       "    </tr>\n",
       "    <tr>\n",
       "      <th>22905</th>\n",
       "      <td>BB_27400050</td>\n",
       "      <td>423</td>\n",
       "      <td>170</td>\n",
       "      <td>1997-07-27</td>\n",
       "      <td>72.8125</td>\n",
       "      <td>False</td>\n",
       "      <td>7 days</td>\n",
       "    </tr>\n",
       "    <tr>\n",
       "      <th>...</th>\n",
       "      <td>...</td>\n",
       "      <td>...</td>\n",
       "      <td>...</td>\n",
       "      <td>...</td>\n",
       "      <td>...</td>\n",
       "      <td>...</td>\n",
       "      <td>...</td>\n",
       "    </tr>\n",
       "    <tr>\n",
       "      <th>23549</th>\n",
       "      <td>BB_27400050</td>\n",
       "      <td>423</td>\n",
       "      <td>170</td>\n",
       "      <td>2009-11-29</td>\n",
       "      <td>73.1875</td>\n",
       "      <td>False</td>\n",
       "      <td>7 days</td>\n",
       "    </tr>\n",
       "    <tr>\n",
       "      <th>23550</th>\n",
       "      <td>BB_27400050</td>\n",
       "      <td>423</td>\n",
       "      <td>170</td>\n",
       "      <td>2009-12-06</td>\n",
       "      <td>73.1250</td>\n",
       "      <td>False</td>\n",
       "      <td>7 days</td>\n",
       "    </tr>\n",
       "    <tr>\n",
       "      <th>23551</th>\n",
       "      <td>BB_27400050</td>\n",
       "      <td>423</td>\n",
       "      <td>170</td>\n",
       "      <td>2009-12-13</td>\n",
       "      <td>73.1875</td>\n",
       "      <td>False</td>\n",
       "      <td>7 days</td>\n",
       "    </tr>\n",
       "    <tr>\n",
       "      <th>23552</th>\n",
       "      <td>BB_27400050</td>\n",
       "      <td>423</td>\n",
       "      <td>170</td>\n",
       "      <td>2009-12-20</td>\n",
       "      <td>73.0625</td>\n",
       "      <td>False</td>\n",
       "      <td>7 days</td>\n",
       "    </tr>\n",
       "    <tr>\n",
       "      <th>23553</th>\n",
       "      <td>BB_27400050</td>\n",
       "      <td>423</td>\n",
       "      <td>170</td>\n",
       "      <td>2009-12-27</td>\n",
       "      <td>73.0625</td>\n",
       "      <td>False</td>\n",
       "      <td>7 days</td>\n",
       "    </tr>\n",
       "  </tbody>\n",
       "</table>\n",
       "<p>653 rows × 7 columns</p>\n",
       "</div>"
      ],
      "text/plain": [
       "           proj_id    x    y       time      gwl  is_jump time_diff\n",
       "22901  BB_27400050  423  170 1997-06-29  72.8750    False   56 days\n",
       "22902  BB_27400050  423  170 1997-07-06  72.8750    False    7 days\n",
       "22903  BB_27400050  423  170 1997-07-13  72.8125    False    7 days\n",
       "22904  BB_27400050  423  170 1997-07-20  72.8125    False    7 days\n",
       "22905  BB_27400050  423  170 1997-07-27  72.8125    False    7 days\n",
       "...            ...  ...  ...        ...      ...      ...       ...\n",
       "23549  BB_27400050  423  170 2009-11-29  73.1875    False    7 days\n",
       "23550  BB_27400050  423  170 2009-12-06  73.1250    False    7 days\n",
       "23551  BB_27400050  423  170 2009-12-13  73.1875    False    7 days\n",
       "23552  BB_27400050  423  170 2009-12-20  73.0625    False    7 days\n",
       "23553  BB_27400050  423  170 2009-12-27  73.0625    False    7 days\n",
       "\n",
       "[653 rows x 7 columns]"
      ]
     },
     "execution_count": 26,
     "metadata": {},
     "output_type": "execute_result"
    }
   ],
   "source": [
    "filtered_train[(filtered_train['proj_id']=='BB_27400050') & (filtered_train['time']>='1997-06-29')]\n",
    "# ST_49399327\n",
    "# 2000-01-23"
   ]
  },
  {
   "cell_type": "code",
   "execution_count": 27,
   "id": "39d50c5a",
   "metadata": {},
   "outputs": [],
   "source": [
    "# Cut the time series that have gaps\n",
    "cut_filtered_train = filtered_train_gap[['proj_id', 'time']].merge(filtered_train, on='proj_id').query('time_x <= time_y')\n",
    "cut_filtered_train = cut_filtered_train[['proj_id', 'x', 'y', 'time_y', 'gwl', 'is_jump', 'time_diff']]\n",
    "cut_filtered_train = cut_filtered_train.rename(columns={'time_y': 'time'})"
   ]
  },
  {
   "cell_type": "code",
   "execution_count": 28,
   "id": "702edb4f",
   "metadata": {},
   "outputs": [],
   "source": [
    "# Merge back to the time series that don't have large gaps in filtered_train \n",
    "filtered_train = pd.concat([filtered_train[~filtered_train['proj_id'].isin(cut_filtered_train['proj_id'].unique())], cut_filtered_train])"
   ]
  },
  {
   "cell_type": "code",
   "execution_count": 29,
   "id": "3b87dfc1",
   "metadata": {},
   "outputs": [
    {
     "name": "stdout",
     "output_type": "stream",
     "text": [
      "Empty DataFrame\n",
      "Columns: [proj_id, x, y, time, gwl, is_jump, time_diff]\n",
      "Index: []\n"
     ]
    }
   ],
   "source": [
    "# Recalculate time diff and check again\n",
    "# No time diff > 4 weeks in the training data\n",
    "filtered_train = filtered_train.assign(time_diff=filtered_train.groupby('proj_id')['time'].diff())\n",
    "print(filtered_train[filtered_train['time_diff'] > pd.Timedelta('28 days')])"
   ]
  },
  {
   "cell_type": "code",
   "execution_count": 54,
   "id": "2e45a3d3",
   "metadata": {},
   "outputs": [],
   "source": [
    "# Check for gaps in validation and test set (there should be no gaps > 4 weeks)\n",
    "# filtered_val[filtered_val['time_diff'] > pd.Timedelta('28 days')]\n",
    "# filtered_test[filtered_test['time_diff'] > pd.Timedelta('7 days')]"
   ]
  },
  {
   "cell_type": "code",
   "execution_count": 30,
   "id": "49c775d0",
   "metadata": {},
   "outputs": [
    {
     "data": {
      "text/plain": [
       "7862"
      ]
     },
     "execution_count": 30,
     "metadata": {},
     "output_type": "execute_result"
    }
   ],
   "source": [
    "len(filtered_train['proj_id'].unique())"
   ]
  },
  {
   "cell_type": "code",
   "execution_count": 39,
   "id": "7c03d67e",
   "metadata": {},
   "outputs": [],
   "source": [
    "interpolated_ts_train = filtered_train[filtered_train['time_diff'] > pd.Timedelta('7 days')]['proj_id'].unique()\n",
    "interpolated_ts_val = filtered_val[filtered_val['time_diff'] > pd.Timedelta('7 days')]['proj_id'].unique()\n",
    "\n",
    "np.save(os.path.join(DATA_PATH, 'interpolated_ts_train.npy'), interpolated_ts_train)\n",
    "np.save(os.path.join(DATA_PATH, 'interpolated_ts_val.npy'), interpolated_ts_val)"
   ]
  },
  {
   "cell_type": "markdown",
   "id": "26b1ef43",
   "metadata": {},
   "source": [
    "## Linear interpolation"
   ]
  },
  {
   "cell_type": "code",
   "execution_count": 55,
   "id": "3f960fde",
   "metadata": {},
   "outputs": [],
   "source": [
    "# Interpolate groundwater levels up to 4 weeks (default limit = 4)\n",
    "def interpolate_gwl(dataframe, interpolation_column, resample_freq='7D', limit=4):\n",
    "    groups = []\n",
    "    for well_id, group in dataframe.groupby('proj_id'):\n",
    "        _df = group.set_index('time')[interpolation_column].resample(resample_freq).asfreq().interpolate(method='linear', limit=limit).reset_index().copy()\n",
    "        for col in group.columns.difference([interpolation_column, 'time']):  # Retain other columns\n",
    "            _df[col] = group[col].iloc[0]\n",
    "        _df['proj_id'] = well_id\n",
    "        groups.append(_df)\n",
    "    result_df = pd.concat(groups).reset_index(drop=True)\n",
    "    return result_df"
   ]
  },
  {
   "cell_type": "code",
   "execution_count": 56,
   "id": "e7a5da51",
   "metadata": {},
   "outputs": [],
   "source": [
    "# from utils import interpolate_gwl\n",
    "filtered_train = interpolate_gwl(filtered_train, 'gwl')\n",
    "filtered_val = interpolate_gwl(filtered_val, 'gwl')\n",
    "filtered_test = interpolate_gwl(filtered_test, 'gwl')"
   ]
  },
  {
   "cell_type": "code",
   "execution_count": 58,
   "id": "4541b356",
   "metadata": {},
   "outputs": [
    {
     "name": "stdout",
     "output_type": "stream",
     "text": [
      "Empty DataFrame\n",
      "Columns: [time, gwl, is_jump, proj_id, time_diff, x, y]\n",
      "Index: []\n"
     ]
    }
   ],
   "source": [
    "# Recalculate time diff and check again\n",
    "# No time diff >  weeks in the training data\n",
    "filtered_train = filtered_train.assign(time_diff=filtered_train.groupby('proj_id')['time'].diff())\n",
    "filtered_val = filtered_val.assign(time_diff=filtered_val.groupby('proj_id')['time'].diff())\n",
    "filtered_test = filtered_test.assign(time_diff=filtered_test.groupby('proj_id')['time'].diff())\n",
    "print(filtered_val[filtered_val['time_diff'] > pd.Timedelta('7 days')])"
   ]
  },
  {
   "cell_type": "markdown",
   "id": "10e70768",
   "metadata": {},
   "source": [
    "## Add exogenous features"
   ]
  },
  {
   "cell_type": "code",
   "execution_count": 60,
   "id": "85ab994d",
   "metadata": {},
   "outputs": [],
   "source": [
    "filtered_train = filtered_train[['proj_id', 'time','gwl']]\n",
    "filtered_val = filtered_val[['proj_id', 'time','gwl']]\n",
    "filtered_test = filtered_test[['proj_id', 'time','gwl']]"
   ]
  },
  {
   "cell_type": "code",
   "execution_count": null,
   "id": "10c98c4b",
   "metadata": {},
   "outputs": [],
   "source": [
    "# Subset validation and training data so that they only share the same sites\n",
    "filtered_val = filtered_val[filtered_val['proj_id'].isin(filtered_train['proj_id'].unique())]\n",
    "filtered_train = filtered_train[filtered_train['proj_id'].isin(filtered_val['proj_id'].unique())]"
   ]
  },
  {
   "cell_type": "code",
   "execution_count": 66,
   "id": "00c95752",
   "metadata": {},
   "outputs": [
    {
     "name": "stdout",
     "output_type": "stream",
     "text": [
      "True\n",
      "6419\n"
     ]
    }
   ],
   "source": [
    "print(len(filtered_train['proj_id'].unique()) == len(filtered_val['proj_id'].unique()))\n",
    "print(len(filtered_train['proj_id'].unique()))"
   ]
  },
  {
   "cell_type": "code",
   "execution_count": 67,
   "id": "99685eac",
   "metadata": {},
   "outputs": [],
   "source": [
    "# Merge features\n",
    "filtered_train = filtered_train.merge(features_df, on=['proj_id', 'time'], how='left')\n",
    "filtered_val = filtered_val.merge(features_df, on=['proj_id', 'time'], how='left')\n",
    "filtered_test = filtered_test.merge(features_df, on=['proj_id', 'time'], how='left')"
   ]
  },
  {
   "cell_type": "code",
   "execution_count": 68,
   "id": "5c105f45",
   "metadata": {},
   "outputs": [],
   "source": [
    "# Not all sites have exogenous variables (training)\n",
    "filtered_train = filtered_train[filtered_train['proj_id'].isin(features_df['proj_id'].unique())]\n",
    "filtered_val = filtered_val[filtered_val['proj_id'].isin(features_df['proj_id'].unique())]\n",
    "filtered_test = filtered_test[filtered_test['proj_id'].isin(features_df['proj_id'].unique())]"
   ]
  },
  {
   "cell_type": "code",
   "execution_count": null,
   "id": "90757e2d",
   "metadata": {},
   "outputs": [],
   "source": [
    "# Check for Nans\n",
    "filtered_train.isnull().any()"
   ]
  },
  {
   "cell_type": "code",
   "execution_count": 70,
   "id": "fe24778a",
   "metadata": {},
   "outputs": [
    {
     "name": "stdout",
     "output_type": "stream",
     "text": [
      "The final training data contain information for 6364 sites\n"
     ]
    }
   ],
   "source": [
    "print('The final training data contain information for',\n",
    "      len(filtered_train['proj_id'].unique()), \n",
    "      'sites'\n",
    ")"
   ]
  },
  {
   "cell_type": "code",
   "execution_count": 72,
   "id": "8804eded",
   "metadata": {},
   "outputs": [
    {
     "name": "stdout",
     "output_type": "stream",
     "text": [
      "The final validation data contain information for 6364 sites\n"
     ]
    }
   ],
   "source": [
    "print('The final validation data contain information for',\n",
    "      len(filtered_val['proj_id'].unique()), \n",
    "      'sites'\n",
    ")"
   ]
  },
  {
   "cell_type": "code",
   "execution_count": 73,
   "id": "4ea55c91",
   "metadata": {},
   "outputs": [
    {
     "name": "stdout",
     "output_type": "stream",
     "text": [
      "The final test data contain information for 8713 sites\n"
     ]
    }
   ],
   "source": [
    "print('The final test data contain information for',\n",
    "      len(filtered_test['proj_id'].unique()), \n",
    "      'sites'\n",
    ")"
   ]
  },
  {
   "cell_type": "code",
   "execution_count": 74,
   "id": "dd2c2969",
   "metadata": {},
   "outputs": [],
   "source": [
    "# Add lon and lat\n",
    "old_static_df = pd.read_feather(os.path.join(DATA_PATH, 'static.feather'))\n",
    "filtered_train = filtered_train.merge(old_static_df[['proj_id', 'lon', 'lat']], on='proj_id', how='left')\n",
    "filtered_val = filtered_val.merge(old_static_df[['proj_id', 'lon', 'lat']], on='proj_id', how='left')\n",
    "filtered_test = filtered_test.merge(old_static_df[['proj_id', 'lon', 'lat']], on='proj_id', how='left')"
   ]
  },
  {
   "cell_type": "code",
   "execution_count": 75,
   "id": "131a0b8c",
   "metadata": {},
   "outputs": [],
   "source": [
    "# Add sinusoidal curve fitted to temperature as variable \n",
    "# Fitting function for sinusoidal fit \n",
    "# Quelle:\n",
    "# https://stackoverflow.com/questions/16716302/how-do-i-fit-a-sine-curve-to-my-data-with-pylab-and-numpy\n",
    "def fit_sin(yy):\n",
    "    '''Fit sin to the input time sequence, and return fitting parameters \"amp\", \n",
    "    \"omega\", \"phase\", \"offset\", \"freq\", \"period\" and \"fitfunc\"'''\n",
    "    \n",
    "    tt = np.linspace(0,len(yy)-1,len(yy))\n",
    "    yy = np.array(yy)\n",
    "    ff = np.fft.fftfreq(len(tt), (tt[1]-tt[0]))   # assume uniform spacing\n",
    "    Fyy = abs(np.fft.fft(yy))\n",
    "    guess_freq = abs(ff[np.argmax(Fyy[1:])+1])   # excluding zero frequency \"peak\" (related to offset)\n",
    "    guess_amp = np.std(yy) * 2.**0.5\n",
    "    guess_offset = np.mean(yy)\n",
    "    guess = np.array([guess_amp, 2.*np.pi*guess_freq, 0., guess_offset])\n",
    "\n",
    "    def sinfunc(t, A, w, p, c):  return A * np.sin(w*t + p) + c\n",
    "    popt, pcov = opt.curve_fit(sinfunc, tt, yy, p0=guess) #opt\n",
    "    A, w, p, c = popt\n",
    "    f = w/(2.*np.pi)\n",
    "    fitfunc = lambda t: A * np.sin(w*t + p) + c\n",
    "    \n",
    "    # # # original return\n",
    "    # return {\"amp\": A, \"omega\": w, \"phase\": p, \"offset\": c, \"freq\": f, \"period\": 1./f, \n",
    "    #         \"fitfunc\": fitfunc, \"maxcov\": np.max(pcov), \"rawres\": (guess,popt,pcov)}\n",
    "    \n",
    "    # my return\n",
    "    out = fitfunc(tt)\n",
    "    out = out-np.mean(out)\n",
    "    \n",
    "    return out\n",
    "\n",
    "sinT = filtered_train.groupby('proj_id').apply(lambda group: fit_sin(group['temp']))\n",
    "sinT_val = filtered_val.groupby('proj_id').apply(lambda group: fit_sin(group['temp']))\n",
    "sinT_test = filtered_test.groupby('proj_id').apply(lambda group: fit_sin(group['temp']))"
   ]
  },
  {
   "cell_type": "code",
   "execution_count": 76,
   "id": "b3a9ced6",
   "metadata": {},
   "outputs": [],
   "source": [
    "sinT = pd.DataFrame(sinT)\n",
    "sinT = sinT.rename(columns={0: 'sin_temp'})\n",
    "sinT = sinT.explode('sin_temp').reset_index()\n",
    "\n",
    "sinT_val = pd.DataFrame(sinT_val)\n",
    "sinT_val = sinT_val.rename(columns={0: 'sin_temp'})\n",
    "sinT_val = sinT_val.explode('sin_temp').reset_index()\n",
    "\n",
    "sinT_test = pd.DataFrame(sinT_test)\n",
    "sinT_test = sinT_test.rename(columns={0: 'sin_temp'})\n",
    "sinT_test = sinT_test.explode('sin_temp').reset_index()"
   ]
  },
  {
   "cell_type": "code",
   "execution_count": 77,
   "id": "60993163",
   "metadata": {},
   "outputs": [
    {
     "data": {
      "image/png": "[encoded data removed]",
      "text/plain": [
       "<Figure size 1000x600 with 2 Axes>"
      ]
     },
     "metadata": {},
     "output_type": "display_data"
    }
   ],
   "source": [
    "sinT['temp'] = filtered_train['temp']\n",
    "# Checking if curve aligns\n",
    "# Filter the DataFrame for two proj_id's of interest\n",
    "proj_id_filter = ['BB_25470023', 'ST_49399327']\n",
    "filtered_df = sinT[sinT['proj_id'].isin(proj_id_filter)]\n",
    "\n",
    "# Create subplots for each proj_id\n",
    "fig, axes = plt.subplots(nrows=len(proj_id_filter), ncols=1, figsize=(10, 6))\n",
    "\n",
    "# Plot the seasonality of 'sinT_vals' and 'temp' for each proj_id\n",
    "for i, proj_id in enumerate(proj_id_filter):\n",
    "    proj_df = filtered_df[filtered_df['proj_id'] == proj_id]\n",
    "    ax = axes[i]\n",
    "    ax.plot(proj_df.index, proj_df['sin_temp'], label='sin_temp', marker='o')\n",
    "    ax.plot(proj_df.index, proj_df['temp'], label='temp', marker='x')\n",
    "    ax.set_xlabel('Time')\n",
    "    ax.set_ylabel('Value')\n",
    "    ax.set_title(f'Project {proj_id}')\n",
    "    ax.legend()\n",
    "\n",
    "# Adjust subplot spacing\n",
    "plt.tight_layout()\n",
    "\n",
    "# Show the plot\n",
    "plt.show()"
   ]
  },
  {
   "cell_type": "code",
   "execution_count": 78,
   "id": "e124f0b5",
   "metadata": {},
   "outputs": [],
   "source": [
    "filtered_train['sin_temp'] = sinT['sin_temp']\n",
    "filtered_val['sin_temp'] = sinT_val['sin_temp']\n",
    "filtered_test['sin_temp'] = sinT_test['sin_temp']"
   ]
  },
  {
   "cell_type": "code",
   "execution_count": 79,
   "id": "dd0e305f",
   "metadata": {},
   "outputs": [],
   "source": [
    "# Add time index\n",
    "filtered_train = filtered_train.merge(TIME_IDX, on='time', how='left')\n",
    "filtered_val = filtered_val.merge(TIME_IDX, on='time', how='left')\n",
    "filtered_test = filtered_test.merge(TIME_IDX, on='time', how='left')"
   ]
  },
  {
   "cell_type": "code",
   "execution_count": 80,
   "id": "a3ba5970",
   "metadata": {},
   "outputs": [],
   "source": [
    "# Rename gwn_recharge\n",
    "filtered_train.rename(columns={'gwn_recharge':'gw_recharge'}, inplace=True)\n",
    "filtered_val.rename(columns={'gwn_recharge':'gw_recharge'}, inplace=True)\n",
    "filtered_test.rename(columns={'gwn_recharge':'gw_recharge'}, inplace=True)"
   ]
  },
  {
   "cell_type": "code",
   "execution_count": 81,
   "id": "82ed06d9",
   "metadata": {},
   "outputs": [],
   "source": [
    "# Save data\n",
    "table_train = pa.Table.from_pandas(filtered_train)\n",
    "table_val = pa.Table.from_pandas(filtered_val)\n",
    "table_test = pa.Table.from_pandas(filtered_test)\n",
    "pq.write_table(table_train, os.path.join(DATA_PATH, 'train_df.parquet'))\n",
    "pq.write_table(table_val, os.path.join(DATA_PATH, 'val_df.parquet'))\n",
    "pq.write_table(table_test, os.path.join(DATA_PATH, 'test_df.parquet'))"
   ]
  }
 ],
 "metadata": {
  "kernelspec": {
   "display_name": "GGWM",
   "language": "python",
   "name": "ggwm"
  },
  "language_info": {
   "codemirror_mode": {
    "name": "ipython",
    "version": 3
   },
   "file_extension": ".py",
   "mimetype": "text/x-python",
   "name": "python",
   "nbconvert_exporter": "python",
   "pygments_lexer": "ipython3",
   "version": "3.9.13"
  }
 },
 "nbformat": 4,
 "nbformat_minor": 5
}
