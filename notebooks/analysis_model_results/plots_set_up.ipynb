{
 "cells": [
  {
   "cell_type": "code",
   "execution_count": null,
   "id": "09d063f8",
   "metadata": {},
   "outputs": [],
   "source": [
    "import os\n",
    "import numpy as np\n",
    "import pandas as pd\n",
    "import re\n",
    "import geopandas as gpd\n",
    "import pyarrow as pa\n",
    "import pyarrow.parquet as pq\n",
    "\n",
    "from scipy import stats\n",
    "from scipy.stats import spearmanr\n",
    "from sklearn.neighbors import KernelDensity\n",
    "import seaborn as sns\n",
    "import matplotlib as mpl\n",
    "import matplotlib.pyplot as plt\n",
    "import matplotlib.gridspec as grid_spec\n",
    "# from matplotlib import colormaps\n",
    "from matplotlib.patches import Patch\n",
    "from mpl_toolkits.axes_grid1 import make_axes_locatable  # Import the module for creating colorbars\n",
    "\n",
    "# Paths\n",
    "BASE_PATH = 'D:/KIMoDIs/global-groundwater-models-main'\n",
    "DATA_PATH = os.path.join(BASE_PATH, 'data')\n",
    "RESULT_PATH = os.path.join(BASE_PATH, 'results')\n",
    "FIGURES_PATH = 'J:/Berlin/B22-FISHy/PROJEKTE/KIMoDIs/Konferenzen/FH-DGGV_2024/plots_fhdggv'\n",
    "SHARE_PATH = 'J:/Berlin/B22-FISHy/NUTZER/Kunz.S'\n",
    "\n",
    "VERSION = '10_Epochs'"
   ]
  },
  {
   "cell_type": "code",
   "execution_count": null,
   "id": "65df0c37",
   "metadata": {},
   "outputs": [],
   "source": [
    "# Datasets\n",
    "train_df = pq.read_table(os.path.join(SHARE_PATH, 'kimodis_preprocessed', 'data', 'train_df.parquet'))\n",
    "train_df = train_df.to_pandas()\n",
    "val_df = pq.read_table(os.path.join(SHARE_PATH, 'kimodis_preprocessed', 'data', 'val_df.parquet'))\n",
    "val_df = val_df.to_pandas()\n",
    "test_df = pq.read_table(os.path.join(SHARE_PATH, 'kimodis_preprocessed', 'data', 'test_df.parquet'))\n",
    "test_df = test_df.to_pandas()\n",
    "\n",
    "# Subset to the 5300 sites \n",
    "test_df_in_sample = test_df[test_df['proj_id'].isin(train_df['proj_id'].unique())]\n",
    "\n",
    "train_df = train_df[train_df['proj_id'].isin(test_df_in_sample['proj_id'].unique())]\n",
    "val_df = val_df[val_df['proj_id'].isin(test_df_in_sample['proj_id'].unique())]"
   ]
  },
  {
   "cell_type": "code",
   "execution_count": null,
   "id": "9b4ddea0",
   "metadata": {},
   "outputs": [],
   "source": [
    "# Plotting settings\n",
    "FONT_SIZE = 20\n",
    "\n",
    "plt.rcParams.update({\n",
    "        \"font.size\": FONT_SIZE,\n",
    "        \"xtick.labelsize\": FONT_SIZE-2,\n",
    "        \"ytick.labelsize\": FONT_SIZE-2,\n",
    "        \n",
    "        'axes.titleweight': 'bold',\n",
    "        'axes.labelweight': 'bold',\n",
    "        \n",
    "        'lines.markersize': 3,\n",
    "        \n",
    "        \"legend.frameon\": True,\n",
    "        \"legend.fontsize\": FONT_SIZE-2,\n",
    "        \"legend.title_fontsize\": FONT_SIZE-2,\n",
    "        \n",
    "        \"savefig.dpi\": 300,     # higher resolution output.\n",
    "        \"savefig.bbox\": 'tight'})"
   ]
  }
 ],
 "metadata": {
  "kernelspec": {
   "display_name": "GGWM",
   "language": "python",
   "name": "ggwm"
  },
  "language_info": {
   "codemirror_mode": {
    "name": "ipython",
    "version": 3
   },
   "file_extension": ".py",
   "mimetype": "text/x-python",
   "name": "python",
   "nbconvert_exporter": "python",
   "pygments_lexer": "ipython3",
   "version": "3.9.13"
  }
 },
 "nbformat": 4,
 "nbformat_minor": 5
}
