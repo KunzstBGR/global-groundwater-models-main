{
 "cells": [
  {
   "cell_type": "markdown",
   "id": "387604a7",
   "metadata": {},
   "source": [
    "## Set Up"
   ]
  },
  {
   "cell_type": "code",
   "execution_count": 1,
   "id": "359a22f6",
   "metadata": {},
   "outputs": [],
   "source": [
    "%run D:/KIMoDIs/global-groundwater-models-main/notebooks/plots_set_up.ipynb"
   ]
  },
  {
   "cell_type": "code",
   "execution_count": 2,
   "id": "ea0b78eb",
   "metadata": {},
   "outputs": [],
   "source": [
    "# Load error metrics\n",
    "metrics_subset = pq.read_table(os.path.join(RESULT_PATH, 'metrics', 'median_metrics_subset.parquet'))\n",
    "metrics_subset = metrics_subset.to_pandas()"
   ]
  },
  {
   "cell_type": "markdown",
   "id": "af5c46e4",
   "metadata": {},
   "source": [
    "### Areas with higher model accuracy\n"
   ]
  },
  {
   "cell_type": "code",
   "execution_count": 3,
   "id": "3b1dafa9",
   "metadata": {},
   "outputs": [],
   "source": [
    "# Median NSE per static feature category\n",
    "static_subset = test_df_in_sample[['proj_id', \n",
    "                                   'aquifer_type',\n",
    "                                   'hyraum_gr', \n",
    "                                   'land_cover', \n",
    "                                   'permeability_coef',\n",
    "                                   'soil_texture', \n",
    "                                   'twi',\n",
    "                                   'gw_recharge',\n",
    "                                   'landform_sha10km',\n",
    "                                   'eumohp_dsd1',\n",
    "                                   'eumohp_lp1',\n",
    "                                   'eumohp_sd1',\n",
    "                                   'elevation']].drop_duplicates()\n",
    "\n",
    "metrics_subset = metrics_subset.merge(static_subset, on='proj_id')\n",
    "metrics_nse05 = metrics_subset[(metrics_subset['horizon']==12) & (metrics_subset['NSE']>=0.5)]\n",
    "\n",
    "# loop for each static categorical variable and output tables\n",
    "static_cat = ['aquifer_type', 'hyraum_gr', 'land_cover', 'permeability_coef', 'soil_texture']\n",
    "\n",
    "for VAR in static_cat: \n",
    "    _df = pd.DataFrame(metrics_subset[metrics_subset['horizon']==12].groupby(['model_type', VAR])['NSE'].median())\n",
    "    _df = pd.merge(_df, pd.DataFrame(metrics_subset[metrics_subset['horizon']==12].groupby(['model_type', VAR]).size().reset_index()), \n",
    "         on=['model_type', VAR])\n",
    "    _df = _df.rename(columns = {0:'N'})\n",
    "    _df = _df.round({'NSE':2})\n",
    "    _df = _df.pivot(columns='model_type', index=[VAR, 'N'])\n",
    "    _df[[('NSE', 'tft_full'), ('NSE', 'tft_dyn'), ('NSE', 'nhits_full'), ('NSE', 'nhits_dyn')]].to_csv(os.path.join(SHARE_PATH, \n",
    "                                                                           'global_mod_paper', \n",
    "                                                                           'results', \n",
    "                                                                           f'nse_per_{VAR}.csv'))"
   ]
  },
  {
   "cell_type": "markdown",
   "id": "808eae83",
   "metadata": {},
   "source": [
    "### Correlation NSE with numeric static feature values"
   ]
  },
  {
   "cell_type": "code",
   "execution_count": 4,
   "id": "d9df768c",
   "metadata": {},
   "outputs": [],
   "source": [
    "# Helper function to calculate and create correlation output\n",
    "def create_corr_tbl(data: pd.DataFrame, FEATURE):\n",
    "    corr_df = data.groupby('model_type').apply(\n",
    "                            lambda group: pd.Series(spearmanr(group['NSE'], group[FEATURE]), \n",
    "                                                    index=['corr', 'p_val'])\n",
    "                        ).reset_index()  \n",
    "    return corr_df\n",
    "\n",
    "#     corr_df = data.groupby('model_type')[['NSE', TS_FEATURE]].corr(method='spearman').iloc[0::2].reset_index()\n",
    "#     corr_df = corr_df.pivot(columns='model_type', index=['level_1', 'NSE'])\n",
    "#     corr_df = corr_df[[(TS_FEATURE, 'tft_full'), (TS_FEATURE, 'tft_dyn'), (TS_FEATURE, 'nhits_full'), (TS_FEATURE, 'nhits_dyn')]]"
   ]
  },
  {
   "cell_type": "code",
   "execution_count": 41,
   "id": "55ee35ef",
   "metadata": {},
   "outputs": [],
   "source": [
    "static_num = ['twi', 'gw_recharge', 'landform_sha10km', 'eumohp_dsd1', 'eumohp_lp1', 'eumohp_sd1', 'elevation']\n",
    "\n",
    "corr_res = []\n",
    "for VAR in static_num: \n",
    "    \n",
    "    # Correlation coef (spearman)\n",
    "    _corr = create_corr_tbl(metrics_subset[metrics_subset['horizon']==12], FEATURE=VAR)\n",
    "    _corr['feature'] = VAR    \n",
    "    corr_res.append(_corr)\n",
    "\n",
    "# Combine all the correlation tables into a single DataFrame\n",
    "corr_df = pd.concat(corr_res, ignore_index=True)\n",
    "corr_df = corr_df.pivot(columns='model_type',  index=['feature'])\n",
    "corr_df = corr_df[[('corr', 'tft_full'), ('corr', 'tft_dyn'), ('corr', 'nhits_full'), ('corr', 'nhits_dyn'),\n",
    "                   ('p_val', 'tft_full'), ('p_val', 'tft_dyn'), ('p_val', 'nhits_full'), ('p_val', 'nhits_dyn')]]\n",
    "\n",
    "corr_df.to_excel(os.path.join(SHARE_PATH, 'global_mod_paper', 'results', 'nse_static_num_spearman.xlsx')) "
   ]
  },
  {
   "cell_type": "markdown",
   "id": "85c838b8",
   "metadata": {},
   "source": [
    "### Correlation with time series features\n",
    "\n",
    "- Seasonal behaviour\n",
    "- Length of training period\n",
    "- Flashiness/SDdiff\n",
    "- Amplitude \n",
    "- Boundness\n",
    "- Seasonality‐magnitude\n",
    "- Linearer Trend (für definierte Zeit) "
   ]
  },
  {
   "cell_type": "code",
   "execution_count": 7,
   "id": "ba2ca3bb",
   "metadata": {},
   "outputs": [],
   "source": [
    "# Use the complete time series of each monitoring well\n",
    "compl_df = pd.concat([train_df[['proj_id', 'time', 'time_idx', 'gwl']], \n",
    "                      val_df[['proj_id', 'time', 'time_idx', 'gwl']], \n",
    "                      test_df_in_sample[['proj_id', 'time', 'time_idx', 'gwl']]\n",
    "                      ]\n",
    "                     )\n",
    "compl_df = compl_df.sort_values(by=['proj_id', 'time'])"
   ]
  },
  {
   "cell_type": "code",
   "execution_count": 31,
   "id": "79f375d8",
   "metadata": {},
   "outputs": [
    {
     "data": {
      "text/html": [
       "<div>\n",
       "<style scoped>\n",
       "    .dataframe tbody tr th:only-of-type {\n",
       "        vertical-align: middle;\n",
       "    }\n",
       "\n",
       "    .dataframe tbody tr th {\n",
       "        vertical-align: top;\n",
       "    }\n",
       "\n",
       "    .dataframe thead th {\n",
       "        text-align: right;\n",
       "    }\n",
       "</style>\n",
       "<table border=\"1\" class=\"dataframe\">\n",
       "  <thead>\n",
       "    <tr style=\"text-align: right;\">\n",
       "      <th></th>\n",
       "      <th>model_type</th>\n",
       "      <th>corr</th>\n",
       "      <th>p_val</th>\n",
       "    </tr>\n",
       "  </thead>\n",
       "  <tbody>\n",
       "    <tr>\n",
       "      <th>0</th>\n",
       "      <td>nhits_dyn</td>\n",
       "      <td>0.243893</td>\n",
       "      <td>0.0</td>\n",
       "    </tr>\n",
       "    <tr>\n",
       "      <th>1</th>\n",
       "      <td>nhits_full</td>\n",
       "      <td>0.218280</td>\n",
       "      <td>0.0</td>\n",
       "    </tr>\n",
       "    <tr>\n",
       "      <th>2</th>\n",
       "      <td>tft_dyn</td>\n",
       "      <td>0.177413</td>\n",
       "      <td>0.0</td>\n",
       "    </tr>\n",
       "    <tr>\n",
       "      <th>3</th>\n",
       "      <td>tft_full</td>\n",
       "      <td>0.177255</td>\n",
       "      <td>0.0</td>\n",
       "    </tr>\n",
       "  </tbody>\n",
       "</table>\n",
       "</div>"
      ],
      "text/plain": [
       "   model_type      corr  p_val\n",
       "0   nhits_dyn  0.243893    0.0\n",
       "1  nhits_full  0.218280    0.0\n",
       "2     tft_dyn  0.177413    0.0\n",
       "3    tft_full  0.177255    0.0"
      ]
     },
     "execution_count": 31,
     "metadata": {},
     "output_type": "execute_result"
    }
   ],
   "source": [
    "create_corr_tbl(metrics_subset[metrics_subset['horizon']==12], FEATURE='twi')"
   ]
  },
  {
   "cell_type": "markdown",
   "id": "4bf76fa8",
   "metadata": {},
   "source": [
    "#### Seasonal behaviour\n",
    "\n",
    "\"Position of the maximum in the annual cycle, agreement with the expected average seasonality (Min in Sep, Max in March)\".\n",
    "Correlation tells if the models perform better when time series follow the expected seasonality\n",
    "\n",
    "- Calculated according to Wunsch et al. 2022 b:\n",
    "    - Mean per month\n",
    "    - Correlate (pearson) with sinus wave following the typical gwl seasonality \n",
    "    - Obtain metric by dividing the correlation with the amplitude (diff gwl and sinus wave) \n",
    "    - Then correlate NSE with the metric \n"
   ]
  },
  {
   "cell_type": "code",
   "execution_count": 14,
   "id": "144e20de",
   "metadata": {},
   "outputs": [],
   "source": [
    "compl_df.loc[:,'year'] = compl_df['time'].dt.year\n",
    "compl_df.loc[:,'month'] = compl_df['time'].dt.month\n",
    "\n",
    "# Z transform GWL\n",
    "compl_df.loc[:,'z_gwl'] = compl_df.groupby('proj_id')['gwl'].transform(lambda x: (x - x.mean())/x.std())\n",
    "\n",
    "from utils import seasonal_behaviour\n",
    "\n",
    "sb_df = seasonal_behaviour(data=compl_df[['proj_id', 'time', 'month', 'z_gwl']])\n",
    "metrics_subset = metrics_subset.merge(sb_df[['proj_id', 'sb_metric']], on='proj_id')\n",
    "sb_nse_corr = metrics_subset[metrics_subset['horizon']==12][['proj_id', 'model_type', 'horizon', 'NSE', 'sb_metric']].drop_duplicates()\n",
    "# sb_nse_corr.groupby('model_type')[['NSE', 'sb_metric']].corr(method='spearman').iloc[0::2]"
   ]
  },
  {
   "cell_type": "code",
   "execution_count": 8,
   "id": "51eed675",
   "metadata": {},
   "outputs": [
    {
     "data": {
      "text/html": [
       "<div>\n",
       "<style scoped>\n",
       "    .dataframe tbody tr th:only-of-type {\n",
       "        vertical-align: middle;\n",
       "    }\n",
       "\n",
       "    .dataframe tbody tr th {\n",
       "        vertical-align: top;\n",
       "    }\n",
       "\n",
       "    .dataframe thead th {\n",
       "        text-align: right;\n",
       "    }\n",
       "</style>\n",
       "<table border=\"1\" class=\"dataframe\">\n",
       "  <thead>\n",
       "    <tr style=\"text-align: right;\">\n",
       "      <th></th>\n",
       "      <th>corr</th>\n",
       "      <th>p_val</th>\n",
       "    </tr>\n",
       "    <tr>\n",
       "      <th>model_type</th>\n",
       "      <th></th>\n",
       "      <th></th>\n",
       "    </tr>\n",
       "  </thead>\n",
       "  <tbody>\n",
       "    <tr>\n",
       "      <th>nhits_dyn</th>\n",
       "      <td>0.342234</td>\n",
       "      <td>3.295548e-145</td>\n",
       "    </tr>\n",
       "    <tr>\n",
       "      <th>nhits_full</th>\n",
       "      <td>0.283058</td>\n",
       "      <td>5.329854e-98</td>\n",
       "    </tr>\n",
       "    <tr>\n",
       "      <th>tft_dyn</th>\n",
       "      <td>0.304912</td>\n",
       "      <td>3.530492e-114</td>\n",
       "    </tr>\n",
       "    <tr>\n",
       "      <th>tft_full</th>\n",
       "      <td>0.267135</td>\n",
       "      <td>4.280671e-87</td>\n",
       "    </tr>\n",
       "  </tbody>\n",
       "</table>\n",
       "</div>"
      ],
      "text/plain": [
       "                corr          p_val\n",
       "model_type                         \n",
       "nhits_dyn   0.342234  3.295548e-145\n",
       "nhits_full  0.283058   5.329854e-98\n",
       "tft_dyn     0.304912  3.530492e-114\n",
       "tft_full    0.267135   4.280671e-87"
      ]
     },
     "execution_count": 8,
     "metadata": {},
     "output_type": "execute_result"
    }
   ],
   "source": [
    "sb_nse_corr = create_corr_tbl(data=sb_nse_corr, TS_FEATURE='sb_metric')\n",
    "sb_nse_corr.to_excel(os.path.join(SHARE_PATH, 'global_mod_paper', 'results', 'nse_seas_beh_spearman.xlsx'))\n",
    "sb_nse_corr"
   ]
  },
  {
   "cell_type": "markdown",
   "id": "4763c2f2",
   "metadata": {},
   "source": [
    "#### Length of training period"
   ]
  },
  {
   "cell_type": "code",
   "execution_count": 11,
   "id": "32e381a0",
   "metadata": {},
   "outputs": [],
   "source": [
    "ts_length = pd.DataFrame(compl_df['proj_id'].value_counts()).reset_index()\n",
    "metrics_subset = metrics_subset.merge(ts_length, on = 'proj_id')"
   ]
  },
  {
   "cell_type": "code",
   "execution_count": 15,
   "id": "15b49dc0",
   "metadata": {},
   "outputs": [
    {
     "data": {
      "text/html": [
       "<div>\n",
       "<style scoped>\n",
       "    .dataframe tbody tr th:only-of-type {\n",
       "        vertical-align: middle;\n",
       "    }\n",
       "\n",
       "    .dataframe tbody tr th {\n",
       "        vertical-align: top;\n",
       "    }\n",
       "\n",
       "    .dataframe thead th {\n",
       "        text-align: right;\n",
       "    }\n",
       "</style>\n",
       "<table border=\"1\" class=\"dataframe\">\n",
       "  <thead>\n",
       "    <tr style=\"text-align: right;\">\n",
       "      <th></th>\n",
       "      <th>model_type</th>\n",
       "      <th>corr</th>\n",
       "      <th>p_val</th>\n",
       "    </tr>\n",
       "  </thead>\n",
       "  <tbody>\n",
       "    <tr>\n",
       "      <th>0</th>\n",
       "      <td>nhits_dyn</td>\n",
       "      <td>0.027762</td>\n",
       "      <td>2.658001e-12</td>\n",
       "    </tr>\n",
       "    <tr>\n",
       "      <th>1</th>\n",
       "      <td>nhits_full</td>\n",
       "      <td>0.018807</td>\n",
       "      <td>2.160486e-06</td>\n",
       "    </tr>\n",
       "    <tr>\n",
       "      <th>2</th>\n",
       "      <td>tft_dyn</td>\n",
       "      <td>-0.002237</td>\n",
       "      <td>5.731261e-01</td>\n",
       "    </tr>\n",
       "    <tr>\n",
       "      <th>3</th>\n",
       "      <td>tft_full</td>\n",
       "      <td>0.009750</td>\n",
       "      <td>1.404980e-02</td>\n",
       "    </tr>\n",
       "  </tbody>\n",
       "</table>\n",
       "</div>"
      ],
      "text/plain": [
       "   model_type      corr         p_val\n",
       "0   nhits_dyn  0.027762  2.658001e-12\n",
       "1  nhits_full  0.018807  2.160486e-06\n",
       "2     tft_dyn -0.002237  5.731261e-01\n",
       "3    tft_full  0.009750  1.404980e-02"
      ]
     },
     "execution_count": 15,
     "metadata": {},
     "output_type": "execute_result"
    }
   ],
   "source": [
    "ts_nse_corr = create_corr_tbl(data=metrics_subset[metrics_subset['horizon']==12], TS_FEATURE='count')\n",
    "ts_nse_corr.to_excel(os.path.join(SHARE_PATH, 'global_mod_paper', 'results', 'nse_tslength_spearman.xlsx'))\n",
    "ts_nse_corr"
   ]
  },
  {
   "cell_type": "markdown",
   "id": "9154a821",
   "metadata": {},
   "source": [
    "#### Flashiness/SDdiff\n",
    "\n",
    "\"The feature SDdiff describes how often strong rates of changes within a time series occur. It is therefore a measure of flashiness and variability. We use the standard deviation σ of the first derivative of the original, unscaled, unnormalized time series date for calculation.\"\n",
    "The correlation tells us if our models perform worse on time series with sudden changes. "
   ]
  },
  {
   "cell_type": "code",
   "execution_count": 5,
   "id": "ad915610",
   "metadata": {},
   "outputs": [],
   "source": [
    "# from utils import SD_diff\n",
    "\n",
    "def SD_diff(x):\n",
    "    # Compute the differences between consecutive elements\n",
    "    differences = np.diff(x)\n",
    "    # Compute the standard deviation\n",
    "    std_dev = np.nanstd(differences)\n",
    "    return std_dev"
   ]
  },
  {
   "cell_type": "code",
   "execution_count": 8,
   "id": "dd7dec9f",
   "metadata": {},
   "outputs": [],
   "source": [
    "sddiff_df = pd.DataFrame(compl_df.groupby('proj_id')['gwl'].apply(lambda x: SD_diff(x))).reset_index()\n",
    "sddiff_df = sddiff_df.rename(columns={'gwl':'flashiness'})\n",
    "metrics_subset = metrics_subset.merge(sddiff_df[['proj_id', 'flashiness']], on='proj_id')"
   ]
  },
  {
   "cell_type": "code",
   "execution_count": 18,
   "id": "244b82b5",
   "metadata": {},
   "outputs": [
    {
     "data": {
      "text/html": [
       "<div>\n",
       "<style scoped>\n",
       "    .dataframe tbody tr th:only-of-type {\n",
       "        vertical-align: middle;\n",
       "    }\n",
       "\n",
       "    .dataframe tbody tr th {\n",
       "        vertical-align: top;\n",
       "    }\n",
       "\n",
       "    .dataframe thead th {\n",
       "        text-align: right;\n",
       "    }\n",
       "</style>\n",
       "<table border=\"1\" class=\"dataframe\">\n",
       "  <thead>\n",
       "    <tr style=\"text-align: right;\">\n",
       "      <th></th>\n",
       "      <th>model_type</th>\n",
       "      <th>corr</th>\n",
       "      <th>p_val</th>\n",
       "    </tr>\n",
       "  </thead>\n",
       "  <tbody>\n",
       "    <tr>\n",
       "      <th>0</th>\n",
       "      <td>nhits_dyn</td>\n",
       "      <td>-0.189498</td>\n",
       "      <td>0.0</td>\n",
       "    </tr>\n",
       "    <tr>\n",
       "      <th>1</th>\n",
       "      <td>nhits_full</td>\n",
       "      <td>-0.209856</td>\n",
       "      <td>0.0</td>\n",
       "    </tr>\n",
       "    <tr>\n",
       "      <th>2</th>\n",
       "      <td>tft_dyn</td>\n",
       "      <td>-0.225679</td>\n",
       "      <td>0.0</td>\n",
       "    </tr>\n",
       "    <tr>\n",
       "      <th>3</th>\n",
       "      <td>tft_full</td>\n",
       "      <td>-0.220185</td>\n",
       "      <td>0.0</td>\n",
       "    </tr>\n",
       "  </tbody>\n",
       "</table>\n",
       "</div>"
      ],
      "text/plain": [
       "   model_type      corr  p_val\n",
       "0   nhits_dyn -0.189498    0.0\n",
       "1  nhits_full -0.209856    0.0\n",
       "2     tft_dyn -0.225679    0.0\n",
       "3    tft_full -0.220185    0.0"
      ]
     },
     "execution_count": 18,
     "metadata": {},
     "output_type": "execute_result"
    }
   ],
   "source": [
    "sddiff_nse_corr = create_corr_tbl(metrics_subset[metrics_subset['horizon']==12], TS_FEATURE='flashiness')\n",
    "sddiff_nse_corr.to_excel(os.path.join(SHARE_PATH, 'global_mod_paper', 'results', 'nse_sddiff_spearman.xlsx'))\n",
    "sddiff_nse_corr"
   ]
  },
  {
   "cell_type": "markdown",
   "id": "1626b094",
   "metadata": {},
   "source": [
    "#### Skewness\n",
    "\n",
    "Boundedness, inhomogeneities, outliers, asymmetry of the probability distribution. \n",
    "\n",
    "$Skewness = \\frac{mean-mode}{sd}$\n",
    "\n",
    "- Zero and around zero: Time series with equal number of large an small amplitude values\n",
    "- Positive: Many small values and few large values (right tail, left skewed)\n",
    "- Negative: Many large values and few small values (left tail, right skewed)"
   ]
  },
  {
   "cell_type": "code",
   "execution_count": 19,
   "id": "71048c9c",
   "metadata": {},
   "outputs": [],
   "source": [
    "skew_df = pd.DataFrame(compl_df.groupby('proj_id')['gwl'].skew()).reset_index()\n",
    "skew_df = skew_df.rename(columns={'gwl':'skew'})"
   ]
  },
  {
   "cell_type": "code",
   "execution_count": 20,
   "id": "fa12d4b7",
   "metadata": {},
   "outputs": [
    {
     "data": {
      "text/html": [
       "<div>\n",
       "<style scoped>\n",
       "    .dataframe tbody tr th:only-of-type {\n",
       "        vertical-align: middle;\n",
       "    }\n",
       "\n",
       "    .dataframe tbody tr th {\n",
       "        vertical-align: top;\n",
       "    }\n",
       "\n",
       "    .dataframe thead th {\n",
       "        text-align: right;\n",
       "    }\n",
       "</style>\n",
       "<table border=\"1\" class=\"dataframe\">\n",
       "  <thead>\n",
       "    <tr style=\"text-align: right;\">\n",
       "      <th></th>\n",
       "      <th>model_type</th>\n",
       "      <th>corr</th>\n",
       "      <th>p_val</th>\n",
       "    </tr>\n",
       "  </thead>\n",
       "  <tbody>\n",
       "    <tr>\n",
       "      <th>0</th>\n",
       "      <td>nhits_dyn</td>\n",
       "      <td>-0.110151</td>\n",
       "      <td>1.793631e-170</td>\n",
       "    </tr>\n",
       "    <tr>\n",
       "      <th>1</th>\n",
       "      <td>nhits_full</td>\n",
       "      <td>-0.112875</td>\n",
       "      <td>5.826834e-179</td>\n",
       "    </tr>\n",
       "    <tr>\n",
       "      <th>2</th>\n",
       "      <td>tft_dyn</td>\n",
       "      <td>-0.076727</td>\n",
       "      <td>1.816800e-83</td>\n",
       "    </tr>\n",
       "    <tr>\n",
       "      <th>3</th>\n",
       "      <td>tft_full</td>\n",
       "      <td>-0.093079</td>\n",
       "      <td>4.310266e-122</td>\n",
       "    </tr>\n",
       "  </tbody>\n",
       "</table>\n",
       "</div>"
      ],
      "text/plain": [
       "   model_type      corr          p_val\n",
       "0   nhits_dyn -0.110151  1.793631e-170\n",
       "1  nhits_full -0.112875  5.826834e-179\n",
       "2     tft_dyn -0.076727   1.816800e-83\n",
       "3    tft_full -0.093079  4.310266e-122"
      ]
     },
     "execution_count": 20,
     "metadata": {},
     "output_type": "execute_result"
    }
   ],
   "source": [
    "metrics_subset = metrics_subset.merge(skew_df[['proj_id', 'skew']], on='proj_id')\n",
    "skew_nse_corr = create_corr_tbl(metrics_subset[metrics_subset['horizon']==12], TS_FEATURE='skew')\n",
    "skew_nse_corr.to_excel(os.path.join(SHARE_PATH, 'global_mod_paper', 'results', 'nse_skew_spearman.xlsx'))\n",
    "skew_nse_corr"
   ]
  },
  {
   "cell_type": "markdown",
   "id": "13b6abf0",
   "metadata": {},
   "source": [
    "#### Amplitude & Range ratio \n",
    "\n",
    "Amplitde = range.\n",
    "\n",
    "Calculated on original, unscaled, unnormalized hydrographs"
   ]
  },
  {
   "cell_type": "code",
   "execution_count": 21,
   "id": "bdd9d58f",
   "metadata": {},
   "outputs": [],
   "source": [
    "ampl_df = pd.DataFrame(compl_df.groupby('proj_id')['gwl'].apply(lambda x: x.max() - x.min())).reset_index()\n",
    "ampl_df = ampl_df.rename(columns={'gwl':'amplitude'})"
   ]
  },
  {
   "cell_type": "code",
   "execution_count": 22,
   "id": "49dea0b1",
   "metadata": {},
   "outputs": [
    {
     "data": {
      "text/html": [
       "<div>\n",
       "<style scoped>\n",
       "    .dataframe tbody tr th:only-of-type {\n",
       "        vertical-align: middle;\n",
       "    }\n",
       "\n",
       "    .dataframe tbody tr th {\n",
       "        vertical-align: top;\n",
       "    }\n",
       "\n",
       "    .dataframe thead th {\n",
       "        text-align: right;\n",
       "    }\n",
       "</style>\n",
       "<table border=\"1\" class=\"dataframe\">\n",
       "  <thead>\n",
       "    <tr style=\"text-align: right;\">\n",
       "      <th></th>\n",
       "      <th>model_type</th>\n",
       "      <th>corr</th>\n",
       "      <th>p_val</th>\n",
       "    </tr>\n",
       "  </thead>\n",
       "  <tbody>\n",
       "    <tr>\n",
       "      <th>0</th>\n",
       "      <td>nhits_dyn</td>\n",
       "      <td>-0.116430</td>\n",
       "      <td>2.355555e-190</td>\n",
       "    </tr>\n",
       "    <tr>\n",
       "      <th>1</th>\n",
       "      <td>nhits_full</td>\n",
       "      <td>-0.126264</td>\n",
       "      <td>9.056979e-224</td>\n",
       "    </tr>\n",
       "    <tr>\n",
       "      <th>2</th>\n",
       "      <td>tft_dyn</td>\n",
       "      <td>-0.097563</td>\n",
       "      <td>5.332027e-134</td>\n",
       "    </tr>\n",
       "    <tr>\n",
       "      <th>3</th>\n",
       "      <td>tft_full</td>\n",
       "      <td>-0.115194</td>\n",
       "      <td>2.360592e-186</td>\n",
       "    </tr>\n",
       "  </tbody>\n",
       "</table>\n",
       "</div>"
      ],
      "text/plain": [
       "   model_type      corr          p_val\n",
       "0   nhits_dyn -0.116430  2.355555e-190\n",
       "1  nhits_full -0.126264  9.056979e-224\n",
       "2     tft_dyn -0.097563  5.332027e-134\n",
       "3    tft_full -0.115194  2.360592e-186"
      ]
     },
     "execution_count": 22,
     "metadata": {},
     "output_type": "execute_result"
    }
   ],
   "source": [
    "metrics_subset = metrics_subset.merge(ampl_df[['proj_id', 'amplitude']], on='proj_id')\n",
    "ampl_nse_corr = create_corr_tbl(metrics_subset[metrics_subset['horizon']==12], TS_FEATURE='amplitude')\n",
    "ampl_nse_corr.to_excel(os.path.join(SHARE_PATH, 'global_mod_paper', 'results', 'nse_ampl_spearman.xlsx'))\n",
    "ampl_nse_corr"
   ]
  },
  {
   "cell_type": "code",
   "execution_count": 23,
   "id": "c40e6c13",
   "metadata": {},
   "outputs": [],
   "source": [
    "rr_df = pd.DataFrame(compl_df.groupby(['proj_id','year'])['gwl'].apply(lambda x: x.max() - x.min())).reset_index()\n",
    "rr_df = rr_df.groupby(['proj_id']).agg(mean_range_gwl=('gwl', 'mean')).reset_index()\n",
    "rr_df = rr_df.merge(ampl_df, on='proj_id')\n",
    "rr_df.loc[:,'range_ratio'] = rr_df['mean_range_gwl'] / rr_df['amplitude'] "
   ]
  },
  {
   "cell_type": "code",
   "execution_count": 24,
   "id": "691d14e4",
   "metadata": {},
   "outputs": [
    {
     "data": {
      "text/html": [
       "<div>\n",
       "<style scoped>\n",
       "    .dataframe tbody tr th:only-of-type {\n",
       "        vertical-align: middle;\n",
       "    }\n",
       "\n",
       "    .dataframe tbody tr th {\n",
       "        vertical-align: top;\n",
       "    }\n",
       "\n",
       "    .dataframe thead th {\n",
       "        text-align: right;\n",
       "    }\n",
       "</style>\n",
       "<table border=\"1\" class=\"dataframe\">\n",
       "  <thead>\n",
       "    <tr style=\"text-align: right;\">\n",
       "      <th></th>\n",
       "      <th>model_type</th>\n",
       "      <th>corr</th>\n",
       "      <th>p_val</th>\n",
       "    </tr>\n",
       "  </thead>\n",
       "  <tbody>\n",
       "    <tr>\n",
       "      <th>0</th>\n",
       "      <td>nhits_dyn</td>\n",
       "      <td>0.214353</td>\n",
       "      <td>0.000000e+00</td>\n",
       "    </tr>\n",
       "    <tr>\n",
       "      <th>1</th>\n",
       "      <td>nhits_full</td>\n",
       "      <td>0.173683</td>\n",
       "      <td>0.000000e+00</td>\n",
       "    </tr>\n",
       "    <tr>\n",
       "      <th>2</th>\n",
       "      <td>tft_dyn</td>\n",
       "      <td>0.088922</td>\n",
       "      <td>1.463845e-111</td>\n",
       "    </tr>\n",
       "    <tr>\n",
       "      <th>3</th>\n",
       "      <td>tft_full</td>\n",
       "      <td>0.097287</td>\n",
       "      <td>3.002649e-133</td>\n",
       "    </tr>\n",
       "  </tbody>\n",
       "</table>\n",
       "</div>"
      ],
      "text/plain": [
       "   model_type      corr          p_val\n",
       "0   nhits_dyn  0.214353   0.000000e+00\n",
       "1  nhits_full  0.173683   0.000000e+00\n",
       "2     tft_dyn  0.088922  1.463845e-111\n",
       "3    tft_full  0.097287  3.002649e-133"
      ]
     },
     "execution_count": 24,
     "metadata": {},
     "output_type": "execute_result"
    }
   ],
   "source": [
    "metrics_subset = metrics_subset.merge(rr_df[['proj_id', 'range_ratio']], on='proj_id')\n",
    "rr_nse_corr = create_corr_tbl(metrics_subset[metrics_subset['horizon']==12], TS_FEATURE='range_ratio')\n",
    "rr_nse_corr.to_excel(os.path.join(SHARE_PATH, 'global_mod_paper', 'results', 'nse_rr_spearman.xlsx'))\n",
    "rr_nse_corr"
   ]
  },
  {
   "cell_type": "markdown",
   "id": "709b79f5",
   "metadata": {},
   "source": [
    "#### Trend\n",
    "\n",
    "- Fit linear regression to the TS data\n",
    "- Check if Coefficient is sig. positive or negative"
   ]
  },
  {
   "cell_type": "code",
   "execution_count": 25,
   "id": "39ba374f",
   "metadata": {},
   "outputs": [],
   "source": [
    "def lin_trend(data: pd.DataFrame):\n",
    "    _x = data['time_idx']\n",
    "    _x = _x - _x.min()\n",
    "    _y = data['gwl']\n",
    "    \n",
    "    slope, intercept, r, p, se = stats.linregress(_x, _y)\n",
    "    return pd.Series({\n",
    "        'slope':slope, \n",
    "        'p_value': p\n",
    "    })"
   ]
  },
  {
   "cell_type": "code",
   "execution_count": 26,
   "id": "e9f41e12",
   "metadata": {},
   "outputs": [],
   "source": [
    "trend_df = compl_df.groupby('proj_id').apply(lin_trend).reset_index()\n",
    "\n",
    "# If p above 0.05 set to zero\n",
    "# Then correlate with slope\n",
    "trend_df.loc[:,'slope_corrected'] = np.where(trend_df['p_value']>0.05, 0, trend_df['slope'])"
   ]
  },
  {
   "cell_type": "code",
   "execution_count": 27,
   "id": "f8dc9457",
   "metadata": {},
   "outputs": [
    {
     "data": {
      "text/html": [
       "<div>\n",
       "<style scoped>\n",
       "    .dataframe tbody tr th:only-of-type {\n",
       "        vertical-align: middle;\n",
       "    }\n",
       "\n",
       "    .dataframe tbody tr th {\n",
       "        vertical-align: top;\n",
       "    }\n",
       "\n",
       "    .dataframe thead th {\n",
       "        text-align: right;\n",
       "    }\n",
       "</style>\n",
       "<table border=\"1\" class=\"dataframe\">\n",
       "  <thead>\n",
       "    <tr style=\"text-align: right;\">\n",
       "      <th></th>\n",
       "      <th>model_type</th>\n",
       "      <th>corr</th>\n",
       "      <th>p_val</th>\n",
       "    </tr>\n",
       "  </thead>\n",
       "  <tbody>\n",
       "    <tr>\n",
       "      <th>0</th>\n",
       "      <td>nhits_dyn</td>\n",
       "      <td>-0.022321</td>\n",
       "      <td>1.872842e-08</td>\n",
       "    </tr>\n",
       "    <tr>\n",
       "      <th>1</th>\n",
       "      <td>nhits_full</td>\n",
       "      <td>-0.020443</td>\n",
       "      <td>2.603313e-07</td>\n",
       "    </tr>\n",
       "    <tr>\n",
       "      <th>2</th>\n",
       "      <td>tft_dyn</td>\n",
       "      <td>0.031185</td>\n",
       "      <td>3.918352e-15</td>\n",
       "    </tr>\n",
       "    <tr>\n",
       "      <th>3</th>\n",
       "      <td>tft_full</td>\n",
       "      <td>0.009180</td>\n",
       "      <td>2.075418e-02</td>\n",
       "    </tr>\n",
       "  </tbody>\n",
       "</table>\n",
       "</div>"
      ],
      "text/plain": [
       "   model_type      corr         p_val\n",
       "0   nhits_dyn -0.022321  1.872842e-08\n",
       "1  nhits_full -0.020443  2.603313e-07\n",
       "2     tft_dyn  0.031185  3.918352e-15\n",
       "3    tft_full  0.009180  2.075418e-02"
      ]
     },
     "execution_count": 27,
     "metadata": {},
     "output_type": "execute_result"
    }
   ],
   "source": [
    "metrics_subset = metrics_subset.merge(trend_df[['proj_id', 'slope_corrected']], on='proj_id')\n",
    "slope_nse_corr = create_corr_tbl(metrics_subset[metrics_subset['horizon']==12], TS_FEATURE='slope_corrected')\n",
    "slope_nse_corr.to_excel(os.path.join(SHARE_PATH, 'global_mod_paper', 'results', 'nse_slope_spearman.xlsx'))\n",
    "slope_nse_corr"
   ]
  },
  {
   "cell_type": "code",
   "execution_count": null,
   "id": "7ed3b029",
   "metadata": {},
   "outputs": [],
   "source": [
    "# Differentiaded based on trend\n",
    "metrics_subset.loc[:,'slope_cat'] = np.select(\n",
    "    [\n",
    "        metrics_subset['slope_corrected']==0, \n",
    "        metrics_subset['slope_corrected']<0,\n",
    "        metrics_subset['slope_corrected']>0\n",
    "    ], \n",
    "    [\n",
    "        'No trend', \n",
    "        'Negative',\n",
    "        'Positive'\n",
    "    ]\n",
    ")\n",
    "metrics_subset[metrics_subset['horizon']==12].groupby(['model_type', 'slope_cat'])['NSE'].median()"
   ]
  }
 ],
 "metadata": {
  "kernelspec": {
   "display_name": "GGWM",
   "language": "python",
   "name": "ggwm"
  },
  "language_info": {
   "codemirror_mode": {
    "name": "ipython",
    "version": 3
   },
   "file_extension": ".py",
   "mimetype": "text/x-python",
   "name": "python",
   "nbconvert_exporter": "python",
   "pygments_lexer": "ipython3",
   "version": "3.9.13"
  }
 },
 "nbformat": 4,
 "nbformat_minor": 5
}
