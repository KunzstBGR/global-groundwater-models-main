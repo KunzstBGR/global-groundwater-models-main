{
 "cells": [
  {
   "cell_type": "code",
   "execution_count": null,
   "id": "7bf2bc55",
   "metadata": {},
   "outputs": [],
   "source": [
    "%run D:/KIMoDIs/global-groundwater-models-main/notebooks/plots_set_up.ipynb"
   ]
  },
  {
   "cell_type": "markdown",
   "id": "d4d2c884",
   "metadata": {},
   "source": [
    "## Plot loss curves & validation metrics"
   ]
  },
  {
   "cell_type": "markdown",
   "id": "1bb8349f",
   "metadata": {},
   "source": [
    "### N-HiTS"
   ]
  },
  {
   "cell_type": "code",
   "execution_count": null,
   "id": "12b6c7c0",
   "metadata": {},
   "outputs": [],
   "source": [
    "train_loss_nhits = pd.read_csv(os.path.join(RESULT_PATH, 'training_metrics_and_loss', 'nhits_full', 'data', 'train_loss_nhits_mqf2.csv'))\n",
    "val_loss_nhits = pd.read_csv(os.path.join(RESULT_PATH, 'training_metrics_and_loss', 'nhits_full', 'data', 'val_loss_nhits_mqf2.csv'))\n",
    "val_mae_nhits = pd.read_csv(os.path.join(RESULT_PATH, 'training_metrics_and_loss', 'nhits_full', 'data', 'val_mae_nhits_mqf2.csv'))\n",
    "val_rmse_nhits = pd.read_csv(os.path.join(RESULT_PATH, 'training_metrics_and_loss', 'nhits_full', 'data', 'val_rmse_nhits_mqf2.csv'))"
   ]
  },
  {
   "cell_type": "code",
   "execution_count": null,
   "id": "90742deb",
   "metadata": {},
   "outputs": [],
   "source": [
    "plt_dict = {'Train loss N-HiTS': train_loss_nhits, \n",
    "            'Val loss N-HiTS': val_loss_nhits,\n",
    "            'Val MAE N-HiTS': val_mae_nhits, \n",
    "            'Val RMSE N-HiTS': val_rmse_nhits}\n",
    "\n",
    "# Create subplots\n",
    "fig, axes = plt.subplots(2, 2, figsize=(13, 9))\n",
    "\n",
    "for i, (name, df) in enumerate(plt_dict.items()):\n",
    "    axes[i // 2, i % 2].plot(df['Step'], df['Value'], color='#00416e')\n",
    "    \n",
    "    # Adding labels and title\n",
    "    # Use Modulus and floor division trick\n",
    "    axes[i // 2, i % 2].set_xlabel('Global step', fontsize=13, fontweight='bold')\n",
    "    axes[i // 2, i % 2].set_ylabel('Value', fontsize=13, fontweight='bold')\n",
    "    axes[i // 2, i % 2].set_title(f'{name}', fontsize=13, fontweight='bold')\n",
    "\n",
    "# Adjust layout to prevent overlapping\n",
    "plt.tight_layout()\n",
    "    \n",
    "# Display the plot\n",
    "plt.show()\n",
    "\n",
    "# fig.savefig(os.path.join(FIGURES_PATH, f'nhits_loss_validation_metrics.png'), format='png', dpi=300.0)\n",
    "# fig.savefig(os.path.join(SHARE_PATH, \n",
    "#                                     'global_mod_paper',\n",
    "#                                     'results',\n",
    "#                                     'nhits',\n",
    "#                                     f'nhits_full',\n",
    "#                                     f'nhits_full_1024_10_Epochs',\n",
    "#                                     f'nhits_loss_validation_metrics.png'), format='png', dpi=300.0)"
   ]
  },
  {
   "cell_type": "code",
   "execution_count": null,
   "id": "1a02a6aa",
   "metadata": {},
   "outputs": [],
   "source": [
    "# plt_dict = {'Train loss N-HiTS': train_loss_nhits, \n",
    "#             'Val loss N-HiTS': val_loss_nhits}\n",
    "# plt_df = pd.concat(plt_dict).reset_index()\n",
    "\n",
    "# # Create subplots\n",
    "# fig, axes = plt.subplots(1, 1, figsize=(11, 10))\n",
    "\n",
    "# axes.plot(plt_df[plt_df['level_0']=='Train loss N-HiTS']['Step'], \n",
    "#           plt_df[plt_df['level_0']=='Train loss N-HiTS']['Value'], color='#00416e')\n",
    "\n",
    "# axes.plot(plt_df[plt_df['level_0']=='Val loss N-HiTS']['Step'], \n",
    "#           plt_df[plt_df['level_0']=='Val loss N-HiTS']['Value'], color='#F5BE5A')\n",
    "\n",
    "    \n",
    "# # Adding labels and title\n",
    "# # Use Modulus and floor division trick\n",
    "# axes.set_xlabel('Global step', fontweight='bold')\n",
    "# axes.set_ylabel('Value', fontweight='bold')\n",
    "# axes.set_title('Loss curves N-HiTS', fontweight='bold')\n",
    "\n",
    "# # Adjust layout to prevent overlapping\n",
    "# plt.tight_layout()\n",
    "    \n",
    "# # Display the plot\n",
    "# plt.show()"
   ]
  },
  {
   "cell_type": "markdown",
   "id": "9f7360af",
   "metadata": {},
   "source": [
    "### TFT"
   ]
  },
  {
   "cell_type": "code",
   "execution_count": null,
   "id": "57fca329",
   "metadata": {},
   "outputs": [],
   "source": [
    "train_loss_tft = pd.read_csv(os.path.join(RESULT_PATH, 'training_metrics_and_loss', 'tft_full','data', 'train_loss_tft_mqf2.csv'))\n",
    "val_loss_tft = pd.read_csv(os.path.join(RESULT_PATH, 'training_metrics_and_loss', 'tft_full', 'data', 'val_loss_tft_mqf2.csv'))\n",
    "val_mae_tft = pd.read_csv(os.path.join(RESULT_PATH, 'training_metrics_and_loss', 'tft_full', 'data', 'val_mae_tft_mqf2.csv'))\n",
    "val_rmse_tft = pd.read_csv(os.path.join(RESULT_PATH, 'training_metrics_and_loss', 'tft_full', 'data', 'val_rmse_tft_mqf2.csv'))"
   ]
  },
  {
   "cell_type": "code",
   "execution_count": null,
   "id": "bc06be61",
   "metadata": {},
   "outputs": [],
   "source": [
    "plt_dict = {'Train loss TFT': train_loss_tft, \n",
    "            'Val loss TFT': val_loss_tft,\n",
    "            'Val MAE TFT': val_mae_tft, \n",
    "            'Val RMSE TFT': val_rmse_tft}\n",
    "\n",
    "# Create subplots\n",
    "fig, axes = plt.subplots(2, 2, figsize=(9, 9))\n",
    "\n",
    "for i, (name, df) in enumerate(plt_dict.items()):\n",
    "    axes[i // 2, i % 2].plot(df['Step'], df['Value'])\n",
    "    \n",
    "    # Adding labels and title\n",
    "    # Use Modulus and floor division trick\n",
    "    axes[i // 2, i % 2].set_xlabel('Global step', fontsize=13, fontweight='bold')\n",
    "    axes[i // 2, i % 2].set_ylabel('Value', fontsize=13, fontweight='bold')\n",
    "    axes[i // 2, i % 2].set_title(f'{name}', fontsize=13, fontweight='bold')\n",
    "\n",
    "# Adjust layout to prevent overlapping\n",
    "plt.tight_layout()\n",
    "    \n",
    "# Display the plot\n",
    "plt.show()\n",
    "\n",
    "# fig.savefig(os.path.join(FIGURES_PATH, \n",
    "#                                     'tft',\n",
    "#                                     f'tft_{MODEL_TYPE}',\n",
    "#                                     f'tft_{MODEL_TYPE}_4096_{VERSION}',\n",
    "#                                     f'tft_loss_validation_metrics.png'), format='png', dpi=300.0)\n",
    "# fig.savefig(os.path.join(SHARE_PATH, \n",
    "#                                     'global_mod_paper',\n",
    "#                                     'results',\n",
    "#                                     'tft',\n",
    "#                                     f'tft_{MODEL_TYPE}',\n",
    "#                                     f'tft_{MODEL_TYPE}_4096_{VERSION}',\n",
    "#                                     f'tft_loss_validation_metrics.png'), format='png', dpi=300.0)"
   ]
  },
  {
   "cell_type": "code",
   "execution_count": null,
   "id": "8d84f58d",
   "metadata": {},
   "outputs": [],
   "source": [
    "plt_dict = {'Train loss TFT': train_loss_tft, \n",
    "            'Val loss TFT': val_loss_tft}\n",
    "\n",
    "# Create subplots\n",
    "fig, axes = plt.subplots(1, 2, figsize=(13, 4.5), sharey=True)\n",
    "\n",
    "for i, (name, df) in enumerate(plt_dict.items()):\n",
    "    axes[i].plot(df['Step'], df['Value'], color='#F5BE5A')\n",
    "    \n",
    "    # Adding labels and title\n",
    "    axes[i].set_xlabel('Global step', fontsize=13, fontweight='bold')\n",
    "    axes[i].set_title(f'{name}', fontsize=13, fontweight='bold')\n",
    "\n",
    "# Set ylabel only for the first subplot\n",
    "axes[0].set_ylabel('Value', fontsize=13, fontweight='bold')\n",
    "\n",
    "# Adjust layout to prevent overlapping\n",
    "plt.tight_layout()\n",
    "    \n",
    "# Display the plot\n",
    "plt.show()\n",
    "\n",
    "fig.savefig(os.path.join(FIGURES_PATH, f'tft_loss_validation_metrics.png'), format='png', dpi=300.0)"
   ]
  }
 ],
 "metadata": {
  "kernelspec": {
   "display_name": "GGWM",
   "language": "python",
   "name": "ggwm"
  },
  "language_info": {
   "codemirror_mode": {
    "name": "ipython",
    "version": 3
   },
   "file_extension": ".py",
   "mimetype": "text/x-python",
   "name": "python",
   "nbconvert_exporter": "python",
   "pygments_lexer": "ipython3",
   "version": "3.9.13"
  }
 },
 "nbformat": 4,
 "nbformat_minor": 5
}
