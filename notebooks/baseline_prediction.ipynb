{
 "cells": [
  {
   "cell_type": "code",
   "execution_count": 1,
   "id": "45d60f8e",
   "metadata": {},
   "outputs": [
    {
     "name": "stdout",
     "output_type": "stream",
     "text": [
      "2.9.1\n"
     ]
    }
   ],
   "source": [
    "from tensorboard import version; print(version.VERSION)"
   ]
  },
  {
   "cell_type": "code",
   "execution_count": 78,
   "id": "2a8ea54f",
   "metadata": {},
   "outputs": [],
   "source": [
    "import torch\n",
    "import os\n",
    "import numpy as np\n",
    "import pandas as pd\n",
    "import lightning.pytorch as pl\n",
    "import warnings\n",
    "import pyarrow as pa\n",
    "import pyarrow.parquet as pq\n",
    "import dill\n",
    "import pickle\n",
    "\n",
    "from pytorch_forecasting import TimeSeriesDataSet, Baseline\n",
    "from pytorch_forecasting.metrics import MAE, MAPE, SMAPE, RMSE, QuantileLoss\n",
    "\n",
    "# For plotting\n",
    "from sklearn.neighbors import KernelDensity\n",
    "import seaborn as sns\n",
    "import matplotlib as mpl\n",
    "import matplotlib.pyplot as plt\n",
    "import matplotlib.gridspec as grid_spec\n",
    "# from matplotlib import colormaps\n",
    "from matplotlib.patches import Patch\n",
    "\n",
    "warnings.filterwarnings('ignore')\n",
    "# os.environ[\"PYTORCH_CUDA_ALLOC_CONF\"] = \"max_split_size_mb:256\"\n",
    "torch.cuda.empty_cache()\n",
    "\n",
    "# Paths, lags and lead, time index (weekly resolution)\n",
    "BASE_PATH = 'D:/KIMoDIs/global-groundwater-models-main'\n",
    "DATA_PATH = os.path.join(BASE_PATH, 'data')\n",
    "MODEL_PATH = os.path.join(BASE_PATH, 'models')\n",
    "RESULT_PATH = os.path.join(BASE_PATH, 'results')\n",
    "FIGURES_PATH = os.path.join(BASE_PATH, 'figures')\n",
    "SHARE_PATH = 'J:/Berlin/B22-FISHy/NUTZER/Kunz.S'\n",
    "CACHE_PATH = os.path.join(BASE_PATH, 'cache')\n",
    "\n",
    "LAG = 52  # weeks\n",
    "LEAD = 12  # weeks\n",
    "\n",
    "# Roughly 80/10/10\n",
    "TRAIN_PERIOD = (pd.Timestamp(1990, 1, 1), pd.Timestamp(2010, 1, 1))\n",
    "VAL_PERIOD = (pd.Timestamp(2010, 1, 1), pd.Timestamp(2013, 1, 1))\n",
    "TEST_PERIOD = (pd.Timestamp(2013, 1, 1), pd.Timestamp(2016, 1, 1))\n",
    "\n",
    "TIME_IDX = pd.date_range(TRAIN_PERIOD[0], TEST_PERIOD[1], freq='W-SUN', inclusive='neither', name='time').to_frame().reset_index(drop=True)\n",
    "TIME_IDX.index.name = 'time_idx'\n",
    "TIME_IDX = TIME_IDX.reset_index()"
   ]
  },
  {
   "cell_type": "code",
   "execution_count": 2,
   "id": "c867bcb2",
   "metadata": {},
   "outputs": [],
   "source": [
    "# Change the model type here\n",
    "MODEL_TYPE = 'full'\n",
    "VERSION = '10_Epochs'"
   ]
  },
  {
   "cell_type": "code",
   "execution_count": 3,
   "id": "c013a08f",
   "metadata": {},
   "outputs": [],
   "source": [
    "train_df = pq.read_table(os.path.join(SHARE_PATH, 'train_df.parquet'))\n",
    "train_df = train_df.to_pandas()\n",
    "val_df = pq.read_table(os.path.join(SHARE_PATH, 'val_df.parquet'))\n",
    "val_df = val_df.to_pandas()\n",
    "test_df = pq.read_table(os.path.join(SHARE_PATH, 'test_df.parquet'))\n",
    "test_df = test_df.to_pandas()\n",
    "\n",
    "test_df_in_sample = test_df[test_df['proj_id'].isin(train_df['proj_id'].unique())]"
   ]
  },
  {
   "cell_type": "code",
   "execution_count": 58,
   "id": "0435ecbb",
   "metadata": {},
   "outputs": [],
   "source": [
    "# TimeSeriesDataSets\n",
    "train_ds = TimeSeriesDataSet.load(os.path.join(SHARE_PATH, f'train_ds_{MODEL_TYPE}_tft.pt'))\n",
    "\n",
    "# Batch size needs to be smaller than horizon (probaly)\n",
    "val_ds = TimeSeriesDataSet.load(os.path.join(SHARE_PATH, f'val_ds_{MODEL_TYPE}_tft.pt'))\n",
    "val_dataloader = val_ds.to_dataloader(train=False, batch_size=8, num_workers=0)\n",
    "\n",
    "test_ds_in_sample = TimeSeriesDataSet.from_dataset(train_ds, test_df_in_sample) \n",
    "test_dataloader_in_sample = test_ds_in_sample.to_dataloader(train=False, batch_size=2, num_workers=0)"
   ]
  },
  {
   "cell_type": "markdown",
   "id": "c21bc752",
   "metadata": {},
   "source": [
    "## Calculate baseline predictions (naive forecast)"
   ]
  },
  {
   "cell_type": "markdown",
   "id": "024cef00",
   "metadata": {},
   "source": [
    "### Validation set"
   ]
  },
  {
   "cell_type": "code",
   "execution_count": 5,
   "id": "d64d0db9",
   "metadata": {},
   "outputs": [
    {
     "name": "stderr",
     "output_type": "stream",
     "text": [
      "GPU available: True (cuda), used: False\n",
      "TPU available: False, using: 0 TPU cores\n",
      "IPU available: False, using: 0 IPUs\n",
      "HPU available: False, using: 0 HPUs\n"
     ]
    }
   ],
   "source": [
    "# calculate baseline mean absolute error, i.e. predict next value as the last available value from the history\n",
    "baseline_predictions_val = Baseline().predict(val_dataloader,\n",
    "                                              mode='prediction',\n",
    "                                              return_y=True,\n",
    "                                              return_index=True,\n",
    "                                              trainer_kwargs=dict(accelerator='cpu', \n",
    "                                                                               devices=1))"
   ]
  },
  {
   "cell_type": "code",
   "execution_count": 6,
   "id": "0baf80bb",
   "metadata": {},
   "outputs": [],
   "source": [
    "baseline_index_val = baseline_predictions_val.index\n",
    "baseline_predictions_val = baseline_predictions_val.output.numpy()"
   ]
  },
  {
   "cell_type": "code",
   "execution_count": null,
   "id": "b0bcb246",
   "metadata": {},
   "outputs": [],
   "source": [
    "def predictions_to_df(index: pd.DataFrame, predictions: np.ndarray, group_ids, date_range, lead):\n",
    "    \n",
    "    predictions_df = index\n",
    "    for i, f in enumerate(predictions):\n",
    "        predictions_df[i] = f\n",
    "\n",
    "    predictions_df = predictions_df.melt(id_vars=group_ids + ['time_idx'], value_vars=list(range(lead)), var_name='horizon', value_name='forecast')\n",
    "    predictions_df['time_idx'] = predictions_df['time_idx'] + predictions_df['horizon']\n",
    "    predictions_df = predictions_df.merge(date_range, on=['time_idx'], how='left')\n",
    "    predictions_df['horizon'] += 1\n",
    "    predictions_df.drop('time_idx', axis=1, inplace=True)\n",
    "    predictions_df.set_index(group_ids+['time', 'horizon'], inplace=True)\n",
    "    return predictions_df\n",
    "\n",
    "baseline_predictions_val = predictions_to_df(baseline_index_val, np.transpose(baseline_predictions_val, (1, 0)), ['proj_id'], TIME_IDX, LEAD)\n",
    "\n",
    "baseline_predictions_val = baseline_predictions_val.reset_index().merge(val_df[['proj_id', 'time', 'gwl']], on=['proj_id', 'time'], how='left').set_index(['proj_id', 'time', 'horizon'])\n",
    "baseline_predictions_val.reset_index().to_feather(os.path.join(RESULT_PATH, \n",
    "                                               'predictions',\n",
    "                                               'baseline',\n",
    "                                               'baseline_predictions_validation.feather'))"
   ]
  },
  {
   "cell_type": "code",
   "execution_count": null,
   "id": "b338ed15",
   "metadata": {},
   "outputs": [],
   "source": [
    "baseline_predictions_val = pd.read_feather(os.path.join(RESULT_PATH, \n",
    "                                               'predictions',\n",
    "                                               'baseline',\n",
    "                                               'baseline_predictions_validation.feather'))\n",
    "\n",
    "# RM NAs and duplicates\n",
    "baseline_predictions_val = baseline_predictions_val[~baseline_predictions_val['forecast'].isnull()]\n",
    "baseline_predictions_val = baseline_predictions_val[~baseline_predictions_val.duplicated(subset=['proj_id', 'time', 'horizon'])]"
   ]
  },
  {
   "cell_type": "markdown",
   "id": "ffc6b135",
   "metadata": {},
   "source": [
    "### Test set"
   ]
  },
  {
   "cell_type": "code",
   "execution_count": 59,
   "id": "13205f52",
   "metadata": {},
   "outputs": [
    {
     "name": "stderr",
     "output_type": "stream",
     "text": [
      "GPU available: True (cuda), used: False\n",
      "TPU available: False, using: 0 TPU cores\n",
      "IPU available: False, using: 0 IPUs\n",
      "HPU available: False, using: 0 HPUs\n"
     ]
    }
   ],
   "source": [
    "# calculate baseline mean absolute error, i.e. predict next value as the last available value from the history\n",
    "baseline_predictions_test = Baseline().predict(test_dataloader_in_sample,\n",
    "                                               mode='prediction',\n",
    "                                               return_y=True,\n",
    "                                               return_index=True,\n",
    "                                               trainer_kwargs=dict(accelerator='cpu', \n",
    "                                                                   devices=1))"
   ]
  },
  {
   "cell_type": "code",
   "execution_count": 60,
   "id": "faa8266e",
   "metadata": {},
   "outputs": [],
   "source": [
    "baseline_index_test = baseline_predictions_test.index\n",
    "baseline_predictions_test = baseline_predictions_test.output.numpy()\n",
    "\n",
    "baseline_predictions_test = predictions_to_df(baseline_index_test, np.transpose(baseline_predictions_test, (1, 0)), ['proj_id'], TIME_IDX, LEAD)\n",
    "\n",
    "baseline_predictions_test = baseline_predictions_test.reset_index().merge(test_df_in_sample[['proj_id', 'time', 'gwl']], on=['proj_id', 'time'], how='left').set_index(['proj_id', 'time', 'horizon'])\n",
    "baseline_predictions_test.reset_index().to_feather(os.path.join(RESULT_PATH, \n",
    "                                                  'predictions',\n",
    "                                                  'baseline',\n",
    "                                                  'baseline_predictions_test_in_sample.feather'))"
   ]
  },
  {
   "cell_type": "code",
   "execution_count": 62,
   "id": "6c91f571",
   "metadata": {},
   "outputs": [],
   "source": [
    "baseline_predictions_test = pd.read_feather(os.path.join(RESULT_PATH, \n",
    "                                               'predictions',\n",
    "                                               'baseline',\n",
    "                                               'baseline_predictions_test_in_sample.feather'))\n",
    "\n",
    "# RM NAs and duplicates\n",
    "baseline_predictions_test = baseline_predictions_test[~baseline_predictions_test['forecast'].isnull()]\n",
    "baseline_predictions_test = baseline_predictions_test[~baseline_predictions_test.duplicated(subset=['proj_id', 'time', 'horizon'])]"
   ]
  },
  {
   "cell_type": "markdown",
   "id": "86f2d650",
   "metadata": {},
   "source": [
    "### Evaluate predictions"
   ]
  },
  {
   "cell_type": "code",
   "execution_count": null,
   "id": "25a5055e",
   "metadata": {},
   "outputs": [],
   "source": [
    "# Validation dataset\n",
    "from utils import get_metrics\n",
    "\n",
    "baseline_predictions_val.set_index(['proj_id', 'time', 'horizon'], inplace=True)\n",
    "baseline_metrics_val = get_metrics(baseline_predictions_val, metrics_subset=['RMSE', 'MAE', 'NSE'])\n",
    "baseline_metrics_val.reset_index(inplace=True)"
   ]
  },
  {
   "cell_type": "code",
   "execution_count": 55,
   "id": "36e47f96",
   "metadata": {},
   "outputs": [
    {
     "data": {
      "text/html": [
       "<div>\n",
       "<style scoped>\n",
       "    .dataframe tbody tr th:only-of-type {\n",
       "        vertical-align: middle;\n",
       "    }\n",
       "\n",
       "    .dataframe tbody tr th {\n",
       "        vertical-align: top;\n",
       "    }\n",
       "\n",
       "    .dataframe thead th {\n",
       "        text-align: right;\n",
       "    }\n",
       "</style>\n",
       "<table border=\"1\" class=\"dataframe\">\n",
       "  <thead>\n",
       "    <tr style=\"text-align: right;\">\n",
       "      <th></th>\n",
       "      <th>horizon</th>\n",
       "      <th>Median_NSE_Baseline</th>\n",
       "    </tr>\n",
       "  </thead>\n",
       "  <tbody>\n",
       "    <tr>\n",
       "      <th>0</th>\n",
       "      <td>1</td>\n",
       "      <td>0.9160</td>\n",
       "    </tr>\n",
       "    <tr>\n",
       "      <th>1</th>\n",
       "      <td>2</td>\n",
       "      <td>0.8030</td>\n",
       "    </tr>\n",
       "    <tr>\n",
       "      <th>2</th>\n",
       "      <td>3</td>\n",
       "      <td>0.6805</td>\n",
       "    </tr>\n",
       "    <tr>\n",
       "      <th>3</th>\n",
       "      <td>4</td>\n",
       "      <td>0.5340</td>\n",
       "    </tr>\n",
       "    <tr>\n",
       "      <th>4</th>\n",
       "      <td>5</td>\n",
       "      <td>0.3730</td>\n",
       "    </tr>\n",
       "    <tr>\n",
       "      <th>5</th>\n",
       "      <td>6</td>\n",
       "      <td>0.2055</td>\n",
       "    </tr>\n",
       "    <tr>\n",
       "      <th>6</th>\n",
       "      <td>7</td>\n",
       "      <td>0.0220</td>\n",
       "    </tr>\n",
       "    <tr>\n",
       "      <th>7</th>\n",
       "      <td>8</td>\n",
       "      <td>-0.1660</td>\n",
       "    </tr>\n",
       "    <tr>\n",
       "      <th>8</th>\n",
       "      <td>9</td>\n",
       "      <td>-0.3510</td>\n",
       "    </tr>\n",
       "    <tr>\n",
       "      <th>9</th>\n",
       "      <td>10</td>\n",
       "      <td>-0.5290</td>\n",
       "    </tr>\n",
       "    <tr>\n",
       "      <th>10</th>\n",
       "      <td>11</td>\n",
       "      <td>-0.7010</td>\n",
       "    </tr>\n",
       "    <tr>\n",
       "      <th>11</th>\n",
       "      <td>12</td>\n",
       "      <td>-0.8850</td>\n",
       "    </tr>\n",
       "  </tbody>\n",
       "</table>\n",
       "</div>"
      ],
      "text/plain": [
       "    horizon  Median_NSE_Baseline\n",
       "0         1               0.9160\n",
       "1         2               0.8030\n",
       "2         3               0.6805\n",
       "3         4               0.5340\n",
       "4         5               0.3730\n",
       "5         6               0.2055\n",
       "6         7               0.0220\n",
       "7         8              -0.1660\n",
       "8         9              -0.3510\n",
       "9        10              -0.5290\n",
       "10       11              -0.7010\n",
       "11       12              -0.8850"
      ]
     },
     "execution_count": 55,
     "metadata": {},
     "output_type": "execute_result"
    }
   ],
   "source": [
    "nse_baseline_val = {'Median_NSE_Baseline': baseline_metrics_val.groupby(['horizon'])['NSE'].median()}\n",
    "nse_baseline_val = pd.DataFrame(nse_baseline_val)\n",
    "nse_baseline_val.reset_index(inplace=True)\n",
    "nse_baseline_val"
   ]
  },
  {
   "cell_type": "code",
   "execution_count": 63,
   "id": "d6d52e17",
   "metadata": {},
   "outputs": [],
   "source": [
    "# Test dataset\n",
    "baseline_predictions_test.set_index(['proj_id', 'time', 'horizon'], inplace=True)\n",
    "baseline_metrics_test = get_metrics(baseline_predictions_test, metrics_subset=['RMSE', 'MAE', 'NSE'])\n",
    "baseline_metrics_test.reset_index(inplace=True)"
   ]
  },
  {
   "cell_type": "code",
   "execution_count": 69,
   "id": "77345b41",
   "metadata": {},
   "outputs": [
    {
     "data": {
      "text/html": [
       "<div>\n",
       "<style scoped>\n",
       "    .dataframe tbody tr th:only-of-type {\n",
       "        vertical-align: middle;\n",
       "    }\n",
       "\n",
       "    .dataframe tbody tr th {\n",
       "        vertical-align: top;\n",
       "    }\n",
       "\n",
       "    .dataframe thead th {\n",
       "        text-align: right;\n",
       "    }\n",
       "</style>\n",
       "<table border=\"1\" class=\"dataframe\">\n",
       "  <thead>\n",
       "    <tr style=\"text-align: right;\">\n",
       "      <th></th>\n",
       "      <th>horizon</th>\n",
       "      <th>Median_NSE_Baseline</th>\n",
       "    </tr>\n",
       "  </thead>\n",
       "  <tbody>\n",
       "    <tr>\n",
       "      <th>0</th>\n",
       "      <td>1</td>\n",
       "      <td>0.917</td>\n",
       "    </tr>\n",
       "    <tr>\n",
       "      <th>1</th>\n",
       "      <td>2</td>\n",
       "      <td>0.819</td>\n",
       "    </tr>\n",
       "    <tr>\n",
       "      <th>2</th>\n",
       "      <td>3</td>\n",
       "      <td>0.708</td>\n",
       "    </tr>\n",
       "    <tr>\n",
       "      <th>3</th>\n",
       "      <td>4</td>\n",
       "      <td>0.581</td>\n",
       "    </tr>\n",
       "    <tr>\n",
       "      <th>4</th>\n",
       "      <td>5</td>\n",
       "      <td>0.442</td>\n",
       "    </tr>\n",
       "    <tr>\n",
       "      <th>5</th>\n",
       "      <td>6</td>\n",
       "      <td>0.302</td>\n",
       "    </tr>\n",
       "    <tr>\n",
       "      <th>6</th>\n",
       "      <td>7</td>\n",
       "      <td>0.162</td>\n",
       "    </tr>\n",
       "    <tr>\n",
       "      <th>7</th>\n",
       "      <td>8</td>\n",
       "      <td>0.021</td>\n",
       "    </tr>\n",
       "    <tr>\n",
       "      <th>8</th>\n",
       "      <td>9</td>\n",
       "      <td>-0.120</td>\n",
       "    </tr>\n",
       "    <tr>\n",
       "      <th>9</th>\n",
       "      <td>10</td>\n",
       "      <td>-0.267</td>\n",
       "    </tr>\n",
       "    <tr>\n",
       "      <th>10</th>\n",
       "      <td>11</td>\n",
       "      <td>-0.392</td>\n",
       "    </tr>\n",
       "    <tr>\n",
       "      <th>11</th>\n",
       "      <td>12</td>\n",
       "      <td>-0.519</td>\n",
       "    </tr>\n",
       "  </tbody>\n",
       "</table>\n",
       "</div>"
      ],
      "text/plain": [
       "    horizon  Median_NSE_Baseline\n",
       "0         1                0.917\n",
       "1         2                0.819\n",
       "2         3                0.708\n",
       "3         4                0.581\n",
       "4         5                0.442\n",
       "5         6                0.302\n",
       "6         7                0.162\n",
       "7         8                0.021\n",
       "8         9               -0.120\n",
       "9        10               -0.267\n",
       "10       11               -0.392\n",
       "11       12               -0.519"
      ]
     },
     "execution_count": 69,
     "metadata": {},
     "output_type": "execute_result"
    }
   ],
   "source": [
    "nse_baseline_test = {'Median_NSE_Baseline': baseline_metrics_test.groupby(['horizon'])['NSE'].median()}\n",
    "nse_baseline_test = pd.DataFrame(nse_baseline_test)\n",
    "nse_baseline_test.reset_index(inplace=True)\n",
    "nse_baseline_test"
   ]
  },
  {
   "cell_type": "code",
   "execution_count": 75,
   "id": "18698497",
   "metadata": {},
   "outputs": [],
   "source": [
    "nse_baseline_test.rename(columns={'horizon':'Horizon'}, inplace=True)\n",
    "nse_baseline_test.to_csv(os.path.join(RESULT_PATH,\n",
    "                                     'predictions',\n",
    "                                     'baseline',\n",
    "                                     'baseline_NSE_test_in_sample.csv'))\n",
    "\n"
   ]
  },
  {
   "cell_type": "code",
   "execution_count": 79,
   "id": "a10ba46b",
   "metadata": {},
   "outputs": [],
   "source": [
    "nse_baseline_test.to_csv(os.path.join(SHARE_PATH,\n",
    "                                     'global_mod_paper',\n",
    "                                     'results',\n",
    "                                     'baseline',\n",
    "                                     'baseline_NSE_test_in_sample.csv'))"
   ]
  },
  {
   "cell_type": "code",
   "execution_count": 82,
   "id": "b96f8d82",
   "metadata": {},
   "outputs": [],
   "source": [
    "FONT_SIZE = 18\n",
    "col_grey ='#bababa'\n",
    "\n",
    "# plt.style.use('seaborn-v0_8')\n",
    "sns.set(rc=\n",
    "    {\"font.size\": FONT_SIZE,\n",
    "     \"axes.titlesize\": FONT_SIZE,\n",
    "     \"axes.labelsize\": FONT_SIZE,\n",
    "     \"xtick.labelsize\": FONT_SIZE-2,\n",
    "     \"ytick.labelsize\": FONT_SIZE-2,\n",
    "     \"legend.fontsize\": FONT_SIZE-2,\n",
    "     \"legend.title_fontsize\": FONT_SIZE-2,\n",
    "    }\n",
    ")\n",
    "plt.rcParams.update({\n",
    "    'font.family': 'Times New Roman',\n",
    "    'font.size': FONT_SIZE,\n",
    "    'axes.labelsize':FONT_SIZE-2,\n",
    "    'axes.labelweight': 'bold',\n",
    "    'axes.titleweight':'bold',\n",
    "    \n",
    "    'legend.fontsize': FONT_SIZE-2,\n",
    "    'legend.title_fontsize': FONT_SIZE-2,\n",
    "    \n",
    "    'axes.facecolor': 'white',\n",
    "    'axes.grid': True,\n",
    "    'axes.grid.axis': 'both',\n",
    "    'axes.grid.which': 'major',\n",
    "    'grid.linestyle': '--',\n",
    "    'grid.color': 'gray',\n",
    "    'grid.linewidth': '0.5',\n",
    "    \n",
    "    'xtick.direction': 'in',\n",
    "    'ytick.direction': 'in',\n",
    "    \n",
    "    'savefig.bbox':'tight',\n",
    "    'savefig.dpi':300\n",
    "})"
   ]
  },
  {
   "cell_type": "code",
   "execution_count": 93,
   "id": "fb7fb9ac",
   "metadata": {},
   "outputs": [
    {
     "data": {
      "image/png": "[encoded data removed]",
      "text/plain": [
       "<Figure size 1800x500 with 6 Axes>"
      ]
     },
     "metadata": {},
     "output_type": "display_data"
    }
   ],
   "source": [
    "p = palette = sns.color_palette(\"colorblind\")\n",
    "colors = [p[5], p[5]] # , p[6], p[3], p[1], p[0], p[2], p[4]\n",
    "\n",
    "horizons = [1, 12]\n",
    "# models = ['tft', 'nhits']\n",
    "models = ['tft']\n",
    "\n",
    "fig_04, ax = plt.subplots(2, 3, figsize=(18, 5), sharey=True)\n",
    "\n",
    "test_position = [-0.9,-0.43,0.95,3.8]\n",
    "for j, (metric, _range) in enumerate([('NSE', (-1,1)), ('MAE', (-0.5, 0.5)), ('RMSE', (0., 1))]):\n",
    "    for i, HORIZON in enumerate(horizons):\n",
    "        x = baseline_metrics_test[(baseline_metrics_test['horizon'] == HORIZON)][metric].replace([np.inf, -np.inf], np.nan).dropna().values\n",
    "        median = np.median(x)\n",
    "        x_d = np.linspace(-1,4, 2000)\n",
    "        \n",
    "        kde = KernelDensity(bandwidth=0.03, kernel='gaussian')\n",
    "        kde.fit(x[:, None])\n",
    "        logprob = kde.score_samples(x_d[:, None])\n",
    "        y_d = np.exp(logprob)\n",
    "\n",
    "        if metric == 'NSE':\n",
    "            y_d *= 2\n",
    "        elif metric == 'Interval Score':\n",
    "            y_d *= 4\n",
    "        \n",
    "        if j == 0:\n",
    "            ax[i, j].set_ylabel(f'{HORIZON} w')\n",
    "            \n",
    "        # plotting the distribution\n",
    "        ax[i, j].plot(x_d, y_d, color=\"#f0f0f0\", lw=1)\n",
    "        ax[i, j].fill_between(x_d, y_d, alpha=1, color=colors[i])\n",
    "        \n",
    "        median_index = np.abs(x_d - median).argmin()\n",
    "        median_y = y_d[median_index]\n",
    "        ax[i, j].plot((median,median), (0,median_y), color=\"white\", alpha = 0.5, lw=2)   \n",
    "        if i == 0:\n",
    "            ax[i, j].text(test_position[j], 0.4, 'Median\\n{:.2f}'.format(median), va='bottom', ha='center', fontsize = FONT_SIZE-4)\n",
    "        else:\n",
    "            ax[i, j].text(test_position[j], 0.4, '{:.2f}'.format(median), va='bottom', ha='center', fontsize = FONT_SIZE-4)\n",
    "      \n",
    "        # setting uniform x and y lims\n",
    "        ax[i, j].set_xlim(_range)\n",
    "        # ax[i, j].set_ylim(0, 8)\n",
    "\n",
    "        # make background transparent\n",
    "        rect = ax[i, j].patch\n",
    "        rect.set_alpha(0)\n",
    "\n",
    "        # remove borders, axis ticks, and y labels, set x labels\n",
    "        ax[i, j].set_yticklabels([])\n",
    "        ax[i, j].grid(False)\n",
    "        ax[i, j].set_xlabel(metric)\n",
    "        \n",
    "        if i == 1:\n",
    "            ax[i, j].xaxis.set_ticks_position('bottom')\n",
    "            if j == 1:\n",
    "                ax[i, j].set_xticks((-0.5,0,0.5))                \n",
    "            elif j==2:\n",
    "                ax[i, j].set_xticks((0,0.5,1))\n",
    "        else:\n",
    "            ax[i, j].set_xticklabels([])\n",
    "\n",
    "        spines = [\"top\",\"right\",\"left\",\"bottom\"]\n",
    "        for s in spines:\n",
    "            ax[i, j].spines[s].set_visible(False)\n",
    "\n",
    "# plt.subplots_adjust(hspace=-.75)\n",
    "ylim = ax[0,0].get_ylim()\n",
    "legend_elements = [Patch(facecolor=p[3], edgecolor=None, label='Baseline Test')]\n",
    "fig_04.legend(handles=legend_elements,mode = \"expand\", bbox_to_anchor=(0.1, 1, 0.78, 0.01))\n",
    "#fig_04.savefig(os.path.join(FIGURES_PATH, \n",
    "#                            'tft',\n",
    "#                            f'tft_{MODEL_TYPE}',\n",
    "#                            f'tft_full_4096_{VERSION}',\n",
    "#                            'metrics_tft.png'), format='png', dpi=300.0)\n",
    "plt.show()"
   ]
  }
 ],
 "metadata": {
  "kernelspec": {
   "display_name": "GGWM",
   "language": "python",
   "name": "ggwm"
  },
  "language_info": {
   "codemirror_mode": {
    "name": "ipython",
    "version": 3
   },
   "file_extension": ".py",
   "mimetype": "text/x-python",
   "name": "python",
   "nbconvert_exporter": "python",
   "pygments_lexer": "ipython3",
   "version": "3.9.13"
  }
 },
 "nbformat": 4,
 "nbformat_minor": 5
}
